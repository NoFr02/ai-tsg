{
 "cells": [
  {
   "cell_type": "markdown",
   "metadata": {},
   "source": [
    "<h1>Data Exctraction - Cable</h1>\n",
    "\n",
    "This notebooks goal is to visualize the distribution of the different corespecs of the cables. Thats done to look how why there are so many of them."
   ]
  },
  {
   "cell_type": "code",
   "execution_count": 1,
   "metadata": {},
   "outputs": [],
   "source": [
    "import pandas as pd\n",
    "import plotly.express as px\n",
    "from sklearn import preprocessing\n",
    "import matplotlib.pyplot as plt\n",
    "import seaborn as sns\n",
    "import re\n",
    "import helpers.pipe_helpers as php"
   ]
  },
  {
   "cell_type": "code",
   "execution_count": 2,
   "metadata": {},
   "outputs": [],
   "source": [
    "mat_cable = pd.read_excel(\"../../res/06 - Spezifikation DE-EN_Vorlage_CAD.xlsx\", sheet_name=\"06 Leitungsart TSZ+TSG\")"
   ]
  },
  {
   "cell_type": "code",
   "execution_count": 3,
   "metadata": {},
   "outputs": [
    {
     "name": "stdout",
     "output_type": "stream",
     "text": [
      "<class 'pandas.core.frame.DataFrame'>\n",
      "RangeIndex: 241 entries, 0 to 240\n",
      "Data columns (total 14 columns):\n",
      " #   Column                                           Non-Null Count  Dtype  \n",
      "---  ------                                           --------------  -----  \n",
      " 0   Unnamed: 0                                       223 non-null    object \n",
      " 1   AGL\n",
      "(Ausgleichsleitung)\n",
      "oder\n",
      "TE\n",
      "(Thermoleitung)  19 non-null     object \n",
      " 2   AGL\n",
      "(Ausgleichsleitung)+C230:C235                127 non-null    object \n",
      " 3   Leitungsart TSG / TSZ                            221 non-null    object \n",
      " 4   Unnamed: 4                                       10 non-null     object \n",
      " 5   Unnamed: 5                                       0 non-null      float64\n",
      " 6   Unnamed: 6                                       0 non-null      float64\n",
      " 7   Unnamed: 7                                       0 non-null      float64\n",
      " 8   Unnamed: 8                                       0 non-null      float64\n",
      " 9   Unnamed: 9                                       0 non-null      float64\n",
      " 10  Datenblatt vorhanden                             44 non-null     object \n",
      " 11  Unnamed: 11                                      0 non-null      float64\n",
      " 12  Unnamed: 12                                      0 non-null      float64\n",
      " 13  Unnamed: 13                                      1 non-null      object \n",
      "dtypes: float64(7), object(7)\n",
      "memory usage: 26.5+ KB\n"
     ]
    }
   ],
   "source": [
    "mat_cable.info()"
   ]
  },
  {
   "cell_type": "code",
   "execution_count": 4,
   "metadata": {},
   "outputs": [
    {
     "ename": "NameError",
     "evalue": "name 'hp' is not defined",
     "output_type": "error",
     "traceback": [
      "\u001b[1;31m---------------------------------------------------------------------------\u001b[0m",
      "\u001b[1;31mNameError\u001b[0m                                 Traceback (most recent call last)",
      "Cell \u001b[1;32mIn[4], line 1\u001b[0m\n\u001b[1;32m----> 1\u001b[0m mat_cable_cp \u001b[38;5;241m=\u001b[39m (mat_cable\u001b[38;5;241m.\u001b[39mpipe(\u001b[43mhp\u001b[49m\u001b[38;5;241m.\u001b[39mstart_pipeline)\n\u001b[0;32m      2\u001b[0m  \u001b[38;5;241m.\u001b[39mpipe(php\u001b[38;5;241m.\u001b[39mrename_column,column_name\u001b[38;5;241m=\u001b[39m\u001b[38;5;124m\"\u001b[39m\u001b[38;5;124mUnnamed: 0\u001b[39m\u001b[38;5;124m\"\u001b[39m,value\u001b[38;5;241m=\u001b[39m\u001b[38;5;124m\"\u001b[39m\u001b[38;5;124mSAP_MATNR\u001b[39m\u001b[38;5;124m\"\u001b[39m)\n\u001b[0;32m      3\u001b[0m  \u001b[38;5;241m.\u001b[39mpipe(php\u001b[38;5;241m.\u001b[39mdrop_columns,column_names\u001b[38;5;241m=\u001b[39m[\u001b[38;5;124m\"\u001b[39m\u001b[38;5;124mUnnamed: 4\u001b[39m\u001b[38;5;124m\"\u001b[39m,\u001b[38;5;124m\"\u001b[39m\u001b[38;5;124mUnnamed: 5\u001b[39m\u001b[38;5;124m\"\u001b[39m,\u001b[38;5;124m\"\u001b[39m\u001b[38;5;124mUnnamed: 6\u001b[39m\u001b[38;5;124m\"\u001b[39m,\u001b[38;5;124m\"\u001b[39m\u001b[38;5;124mUnnamed: 7\u001b[39m\u001b[38;5;124m\"\u001b[39m,\u001b[38;5;124m\"\u001b[39m\u001b[38;5;124mUnnamed: 8\u001b[39m\u001b[38;5;124m\"\u001b[39m,\u001b[38;5;124m\"\u001b[39m\u001b[38;5;124mUnnamed: 9\u001b[39m\u001b[38;5;124m\"\u001b[39m,\u001b[38;5;124m\"\u001b[39m\u001b[38;5;124mUnnamed: 11\u001b[39m\u001b[38;5;124m\"\u001b[39m,\u001b[38;5;124m\"\u001b[39m\u001b[38;5;124mUnnamed: 12\u001b[39m\u001b[38;5;124m\"\u001b[39m,\u001b[38;5;124m\"\u001b[39m\u001b[38;5;124mUnnamed: 13\u001b[39m\u001b[38;5;124m\"\u001b[39m])\n\u001b[0;32m      4\u001b[0m  \u001b[38;5;241m.\u001b[39mpipe(php\u001b[38;5;241m.\u001b[39mfilterNaN_rows, column_names\u001b[38;5;241m=\u001b[39m[\u001b[38;5;124m\"\u001b[39m\u001b[38;5;124mLeitungsart TSG / TSZ\u001b[39m\u001b[38;5;124m\"\u001b[39m, \u001b[38;5;124m\"\u001b[39m\u001b[38;5;124mSAP_MATNR\u001b[39m\u001b[38;5;124m\"\u001b[39m])\n\u001b[0;32m      5\u001b[0m  )\n",
      "\u001b[1;31mNameError\u001b[0m: name 'hp' is not defined"
     ]
    }
   ],
   "source": [
    "mat_cable_cp = (mat_cable.pipe(hp.start_pipeline)\n",
    " .pipe(php.rename_column,column_name=\"Unnamed: 0\",value=\"SAP_MATNR\")\n",
    " .pipe(php.drop_columns,column_names=[\"Unnamed: 4\",\"Unnamed: 5\",\"Unnamed: 6\",\"Unnamed: 7\",\"Unnamed: 8\",\"Unnamed: 9\",\"Unnamed: 11\",\"Unnamed: 12\",\"Unnamed: 13\"])\n",
    " .pipe(php.filterNaN_rows, column_names=[\"Leitungsart TSG / TSZ\", \"SAP_MATNR\"])\n",
    " )"
   ]
  },
  {
   "cell_type": "code",
   "execution_count": null,
   "metadata": {},
   "outputs": [],
   "source": [
    "mat_cable_cp.loc[:,[\"SAP_MATNR\",'Leitungsart TSG / TSZ']].to_csv(\"../../res/results/export_cable.csv\")"
   ]
  },
  {
   "cell_type": "code",
   "execution_count": null,
   "metadata": {},
   "outputs": [],
   "source": [
    "mat_cable_extracted = pd.read_csv(\"../../res/results/normalized_materials_cable_data.csv\")"
   ]
  },
  {
   "cell_type": "markdown",
   "metadata": {},
   "source": [
    "<h2>Visualize the Different types of sensors</h2>"
   ]
  },
  {
   "cell_type": "code",
   "execution_count": null,
   "metadata": {},
   "outputs": [],
   "source": [
    "from anytree import Node, RenderTree, PreOrderIter\n",
    "\n",
    "# Focus on relevant columns and handle missing data\n",
    "data_clean = mat_cable_extracted[['Material', 'Conductor Type', 'Diameter']].fillna('Unknown')\n",
    "\n",
    "# Initialize the root of the tree and main categories\n",
    "root = Node(\"Cable\", count=0)\n",
    "pt_node = Node(\"PTs\", parent=root, count=0)\n",
    "ntc_node = Node(\"NTCs\", parent=root, count=0)\n",
    "kty_node = Node(\"KTYs\", parent=root, count=0)\n",
    "lm_node = Node(\"LMs\", parent=root, count= 0)\n",
    "others_node = Node(\"Others\", parent=root, count=0)\n",
    "\n",
    "# Populate the tree and count rows\n",
    "for _, row in data_clean.iterrows():\n",
    "    sensorart, pt_class = row['Sensorart'], row['PT_Class']\n",
    "    widerstand = row['Widerstand']\n",
    "    b_wert = row['B_Wert']\n",
    "    \n",
    "    # Determine the category and add specific nodes\n",
    "    if re.match(r\"Pt\\s?\\d+\", sensorart):\n",
    "        parent_node = pt_node\n",
    "    elif re.match(r\"NTC\", sensorart):\n",
    "        parent_node = root\n",
    "    elif re.match(r\"KTY\", sensorart):\n",
    "        parent_node = kty_node\n",
    "    elif re.match(r\"LM\", sensorart):\n",
    "        parent_node = lm_node\n",
    "    else:\n",
    "        parent_node = others_node\n",
    "    \n",
    "    # Increment count for the category\n",
    "    parent_node.count += 1\n",
    "    root.count +=1\n",
    "    \n",
    "    # Create or fetch the sensor node\n",
    "    sensor_node_name = f\"{sensorart}\"\n",
    "    sensor_node = next((child for child in parent_node.children if child.name.startswith(sensor_node_name)), None)\n",
    "    if not sensor_node:\n",
    "        sensor_node = Node(sensor_node_name, parent=parent_node, count=0)\n",
    "    sensor_node.count += 1\n",
    "\n",
    "    # Further classify PTs by 'PT_Class' and NTCs by 'Widerstand'\n",
    "    if parent_node == pt_node and pt_class != 'Unknown':\n",
    "        class_node_name = f\"Class: {pt_class}\"\n",
    "        class_node = next((child for child in sensor_node.children if child.name == class_node_name), None)\n",
    "        if not class_node:\n",
    "            class_node = Node(class_node_name, parent=sensor_node, count=0)\n",
    "        class_node.count += 1\n",
    "    elif parent_node == root and widerstand != 'Unknown':\n",
    "        root.count -=1\n",
    "        widerstand_node_name = f\"Widerstand: {widerstand}\"\n",
    "        widerstand_node = next((child for child in sensor_node.children if child.name == widerstand_node_name), None)\n",
    "        if not widerstand_node:\n",
    "            widerstand_node = Node(widerstand_node_name, parent=sensor_node, count=0)\n",
    "        widerstand_node.count += 1\n",
    "\n",
    "        if b_wert != 'Unknown':\n",
    "            b_wert_node_name = f'{widerstand} B_Wert: {b_wert}'\n",
    "            b_wert_node = next((child for child in widerstand_node.children if child.name == b_wert_node_name), None)\n",
    "            if not b_wert_node:\n",
    "                b_wert_node = Node(b_wert_node_name, parent=widerstand_node, count=0)\n",
    "            b_wert_node.count += 1\n",
    "\n",
    "# Update node names with counts\n",
    "for node in PreOrderIter(root):\n",
    "    node.name = f\"{node.name} ({node.count})\"\n",
    "\n",
    "# Print the tree structure\n",
    "for pre, fill, node in RenderTree(root):\n",
    "    print(\"%s%s\" % (pre, node.name))\n"
   ]
  },
  {
   "cell_type": "code",
   "execution_count": null,
   "metadata": {},
   "outputs": [],
   "source": [
    "import matplotlib.pyplot as plt\n",
    "import networkx as nx\n",
    "from networkx.drawing.nx_pydot import graphviz_layout\n",
    "\n",
    "G = nx.DiGraph()\n",
    "\n",
    "# A helper function to ensure node names are properly quoted if necessary\n",
    "def format_node_name(name):\n",
    "    # Check if the name contains special characters and quote it if it does\n",
    "    if ':' in name or any(c in name for c in ['-', ' ', '(', ')', '[', ']', '{', '}']):\n",
    "        return f'\"{name}\"'\n",
    "    return name\n",
    "\n",
    "# Function to add nodes and edges with formatted node names\n",
    "def add_nodes_edges(node):\n",
    "    for child in node.children:\n",
    "        parent_name = format_node_name(node.name)\n",
    "        child_name = format_node_name(child.name)\n",
    "        G.add_edge(parent_name, child_name)  # Add an edge to the graph with formatted names\n",
    "        add_nodes_edges(child)  # Recursive call to add nodes/edges for children\n",
    "\n",
    "# Initialize the process with the root node\n",
    "add_nodes_edges(root)\n",
    "\n",
    "# Calculate node sizes based on the number of descendants (or any other metric)\n",
    "node_sizes = {node: int(node[node.rfind(\"(\")+1:node.rfind(\")\")])*200 + 300 for node in G.nodes()}  # Example metric: out_degree * 200 + 300\n",
    "\n",
    "\n",
    "# Use the graphviz layout to draw the tree\n",
    "plt.figure(figsize=(80, 30))  # Adjust the size of the figure as needed\n",
    "pos = graphviz_layout(G, prog='dot')  # This uses the 'dot' layout\n",
    "nx.draw(G, pos, with_labels=False, arrows=True, node_size=[node_sizes[node] for node in G.nodes()], node_color=\"lightblue\", font_size=12, font_weight=\"bold\")\n",
    "\n",
    "# Custom labels drawing\n",
    "label_pos = {key: (value[0], value[1] - 5) for key, value in pos.items()}  # Adjust label positions below nodes\n",
    "for node, (x, y) in label_pos.items():\n",
    "    plt.text(x, y, node, fontsize=10, fontweight=\"bold\", ha='center', rotation=90)  # ha='center' centers the text horizontally at the position\n",
    "\n",
    "plt.title('Tree Visualization with Graphviz Layout')\n",
    "plt.show()"
   ]
  }
 ],
 "metadata": {
  "kernelspec": {
   "display_name": "py_venv",
   "language": "python",
   "name": "python3"
  },
  "language_info": {
   "codemirror_mode": {
    "name": "ipython",
    "version": 3
   },
   "file_extension": ".py",
   "mimetype": "text/x-python",
   "name": "python",
   "nbconvert_exporter": "python",
   "pygments_lexer": "ipython3",
   "version": "3.12.3"
  }
 },
 "nbformat": 4,
 "nbformat_minor": 2
}
