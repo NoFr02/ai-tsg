{
 "cells": [
  {
   "cell_type": "markdown",
   "metadata": {},
   "source": [
    "<h1>Data Exctraction - Steckertyp</h1>"
   ]
  },
  {
   "cell_type": "code",
   "execution_count": 5,
   "metadata": {},
   "outputs": [],
   "source": [
    "import pandas as pd\n",
    "import matplotlib.pyplot as plt\n",
    "import seaborn as sns\n",
    "import helpers.pipe_helpers as php"
   ]
  },
  {
   "cell_type": "code",
   "execution_count": 6,
   "metadata": {},
   "outputs": [],
   "source": [
    "mat_stecker = pd.read_excel(\"../../res/06 - Spezifikation DE-EN_Vorlage_CAD.xlsx\", sheet_name=\"07_Steckertyp\")"
   ]
  },
  {
   "cell_type": "code",
   "execution_count": 7,
   "metadata": {},
   "outputs": [
    {
     "name": "stdout",
     "output_type": "stream",
     "text": [
      "just ran step start_pipeline shape=(204, 8) took 0:00:00s\n",
      "just ran step rename_column shape=(204, 8) took 0:00:00.001576s\n",
      "just ran step drop_columns shape=(204, 3) took 0:00:00.000946s\n"
     ]
    }
   ],
   "source": [
    "mat_stecker_cp = (mat_stecker.pipe(php.start_pipeline)\n",
    "    .pipe(php.rename_column, column_name=\"Unnamed: 0\", value=\"SAP_MATNR\")\n",
    "    .pipe(php.drop_columns, column_names=[\"Unnamed: 2\",\"Unnamed: 3\",\"Unnamed: 4\",\"Unnamed: 5\",\"Unnamed: 6\"]))"
   ]
  },
  {
   "cell_type": "code",
   "execution_count": 8,
   "metadata": {},
   "outputs": [],
   "source": [
    "mat_stecker_X, mat_stecker_Y = php.split_X_Y(mat_stecker_cp, \"SAP_MATNR\")"
   ]
  }
 ],
 "metadata": {
  "kernelspec": {
   "display_name": "py_venv",
   "language": "python",
   "name": "python3"
  },
  "language_info": {
   "codemirror_mode": {
    "name": "ipython",
    "version": 3
   },
   "file_extension": ".py",
   "mimetype": "text/x-python",
   "name": "python",
   "nbconvert_exporter": "python",
   "pygments_lexer": "ipython3",
   "version": "3.12.3"
  }
 },
 "nbformat": 4,
 "nbformat_minor": 2
}
