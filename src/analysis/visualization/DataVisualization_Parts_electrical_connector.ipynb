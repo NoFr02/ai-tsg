{
 "cells": [
  {
   "cell_type": "markdown",
   "metadata": {},
   "source": [
    "<h1>Data Exctraction - Elektrischer Anschluss</h1>\n",
    "\n",
    "The goal of this workbook ist to show how many different electrical connections are there and why there are that many."
   ]
  },
  {
   "cell_type": "code",
   "execution_count": 1,
   "metadata": {},
   "outputs": [],
   "source": [
    "import pandas as pd\n",
    "import matplotlib.pyplot as plt\n",
    "import seaborn as sns\n",
    "import helpers.pipe_helpers as php"
   ]
  },
  {
   "cell_type": "code",
   "execution_count": 2,
   "metadata": {},
   "outputs": [],
   "source": [
    "mat_electric = pd.read_excel(\"../../res/06 - Spezifikation DE-EN_Vorlage_CAD.xlsx\", sheet_name=\"08 elektrischer Anschluss\")"
   ]
  },
  {
   "cell_type": "code",
   "execution_count": 3,
   "metadata": {},
   "outputs": [
    {
     "name": "stdout",
     "output_type": "stream",
     "text": [
      "just ran step start_pipeline shape=(107, 13) took 0:00:00s\n",
      "just ran step rename_column shape=(107, 13) took 0:00:00.001013s\n",
      "just ran step drop_columns shape=(107, 3) took 0:00:00.000984s\n"
     ]
    }
   ],
   "source": [
    "mat_electric_cp = (mat_electric.pipe(php.start_pipeline)\n",
    "    .pipe(php.rename_column, column_name=\"Unnamed: 0\", value=\"SAP_MATNR\")\n",
    "    .pipe(php.drop_columns, column_names=[\"Unnamed: 2\",\"Unnamed: 3\",\"Unnamed: 4\",\"Unnamed: 5\",\"Unnamed: 6\",\"Unnamed: 8\",\"Unnamed: 9\",\"Unnamed: 10\",\"Unnamed: 11\",\"Unnamed: 12\"]))"
   ]
  },
  {
   "cell_type": "code",
   "execution_count": 4,
   "metadata": {},
   "outputs": [],
   "source": [
    "mat_electric_X, mat_electric_Y = php.split_X_Y(mat_electric_cp,\"SAP_MATNR\")"
   ]
  },
  {
   "cell_type": "code",
   "execution_count": 5,
   "metadata": {},
   "outputs": [],
   "source": [
    "mat_electric_cp.loc[:,[\"SAP_MATNR\",'Kabelende']].to_csv(\"../../res/results/export_el.csv\")"
   ]
  },
  {
   "cell_type": "code",
   "execution_count": null,
   "metadata": {},
   "outputs": [],
   "source": [
    "mat_electric_extracted = pd.read_csv(\"../../res/results/processed_export_el_detailed.csv\")"
   ]
  }
 ],
 "metadata": {
  "kernelspec": {
   "display_name": "py_venv",
   "language": "python",
   "name": "python3"
  },
  "language_info": {
   "codemirror_mode": {
    "name": "ipython",
    "version": 3
   },
   "file_extension": ".py",
   "mimetype": "text/x-python",
   "name": "python",
   "nbconvert_exporter": "python",
   "pygments_lexer": "ipython3",
   "version": "3.12.3"
  }
 },
 "nbformat": 4,
 "nbformat_minor": 2
}
