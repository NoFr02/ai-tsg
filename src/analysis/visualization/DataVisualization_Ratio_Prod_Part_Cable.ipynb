{
 "cells": [
  {
   "cell_type": "markdown",
   "metadata": {},
   "source": [
    "<h1>Data Visualization - Prod/Part Cable</h1>\n",
    "\n",
    "This books goal is to show the ratio of cables used in the cableprobes. "
   ]
  },
  {
   "cell_type": "code",
   "execution_count": 1,
   "metadata": {},
   "outputs": [],
   "source": [
    "import json\n",
    "import pandas as pd\n",
    "import helpers.pipe_helpers as php\n",
    "import helpers.api_helpers as ahp\n",
    "import numpy as np"
   ]
  },
  {
   "cell_type": "markdown",
   "metadata": {},
   "source": [
    "First I try to get every product in a specific Classification-Node (CableProbes)."
   ]
  },
  {
   "cell_type": "code",
   "execution_count": 2,
   "metadata": {},
   "outputs": [
    {
     "name": "stdout",
     "output_type": "stream",
     "text": [
      "just ran step read_from_windchill_per_node took 0:00:00.515728s\n",
      "just ran step read_from_windchill_per_node took 0:00:00.849174s\n",
      "just ran step read_from_windchill_per_node took 0:00:01.266309s\n",
      "just ran step read_from_windchill_per_node took 0:00:01.575433s\n"
     ]
    },
    {
     "ename": "KeyboardInterrupt",
     "evalue": "",
     "output_type": "error",
     "traceback": [
      "\u001b[1;31m---------------------------------------------------------------------------\u001b[0m",
      "\u001b[1;31mKeyboardInterrupt\u001b[0m                         Traceback (most recent call last)",
      "Cell \u001b[1;32mIn[2], line 5\u001b[0m\n\u001b[0;32m      2\u001b[0m pointer \u001b[38;5;241m=\u001b[39m \u001b[38;5;241m0\u001b[39m\n\u001b[0;32m      4\u001b[0m \u001b[38;5;28;01mwhile\u001b[39;00m \u001b[38;5;28;01mTrue\u001b[39;00m:\n\u001b[1;32m----> 5\u001b[0m     data \u001b[38;5;241m=\u001b[39m \u001b[43mahp\u001b[49m\u001b[38;5;241;43m.\u001b[39;49m\u001b[43mread_from_windchill_per_node\u001b[49m\u001b[43m(\u001b[49m\u001b[38;5;124;43m\"\u001b[39;49m\u001b[38;5;124;43mTSGCableProbes\u001b[39;49m\u001b[38;5;124;43m\"\u001b[39;49m\u001b[43m,\u001b[49m\u001b[43mpointer\u001b[49m\u001b[43m)\u001b[49m\n\u001b[0;32m      6\u001b[0m     json_data \u001b[38;5;241m=\u001b[39m json\u001b[38;5;241m.\u001b[39mloads(data)\n\u001b[0;32m      7\u001b[0m     json_data_value \u001b[38;5;241m=\u001b[39m pd\u001b[38;5;241m.\u001b[39mDataFrame(json_data[\u001b[38;5;124m'\u001b[39m\u001b[38;5;124mvalue\u001b[39m\u001b[38;5;124m'\u001b[39m])   \n",
      "File \u001b[1;32mc:\\dev\\projects\\ai-tsg\\venv\\Lib\\site-packages\\helpers\\api_helpers.py:16\u001b[0m, in \u001b[0;36mlog_request.<locals>.wrapper\u001b[1;34m(*args, **kwargs)\u001b[0m\n\u001b[0;32m     14\u001b[0m tic \u001b[38;5;241m=\u001b[39m dt\u001b[38;5;241m.\u001b[39mdatetime\u001b[38;5;241m.\u001b[39mnow()\n\u001b[0;32m     15\u001b[0m \u001b[38;5;28;01mtry\u001b[39;00m:\n\u001b[1;32m---> 16\u001b[0m   result \u001b[38;5;241m=\u001b[39m \u001b[43mfunc\u001b[49m\u001b[43m(\u001b[49m\u001b[38;5;241;43m*\u001b[39;49m\u001b[43margs\u001b[49m\u001b[43m,\u001b[49m\u001b[43m \u001b[49m\u001b[38;5;241;43m*\u001b[39;49m\u001b[38;5;241;43m*\u001b[39;49m\u001b[43mkwargs\u001b[49m\u001b[43m)\u001b[49m\n\u001b[0;32m     17\u001b[0m \u001b[38;5;28;01mexcept\u001b[39;00m \u001b[38;5;167;01mException\u001b[39;00m \u001b[38;5;28;01mas\u001b[39;00m e:\n\u001b[0;32m     18\u001b[0m   result \u001b[38;5;241m=\u001b[39m \u001b[38;5;124mf\u001b[39m\u001b[38;5;124m'\u001b[39m\u001b[38;5;124mError: \u001b[39m\u001b[38;5;132;01m{\u001b[39;00m\u001b[38;5;28mstr\u001b[39m(e)\u001b[38;5;132;01m}\u001b[39;00m\u001b[38;5;124m'\u001b[39m\n",
      "File \u001b[1;32mc:\\dev\\projects\\ai-tsg\\venv\\Lib\\site-packages\\helpers\\api_helpers.py:31\u001b[0m, in \u001b[0;36mread_from_windchill_per_node\u001b[1;34m(nodename, skiptoken)\u001b[0m\n\u001b[0;32m     27\u001b[0m headers \u001b[38;5;241m=\u001b[39m {\n\u001b[0;32m     28\u001b[0m   \u001b[38;5;124m\"\u001b[39m\u001b[38;5;124mAuthorization\u001b[39m\u001b[38;5;124m\"\u001b[39m: \u001b[38;5;124mf\u001b[39m\u001b[38;5;124m'\u001b[39m\u001b[38;5;132;01m{\u001b[39;00mAUTH\u001b[38;5;132;01m}\u001b[39;00m\u001b[38;5;124m'\u001b[39m\n\u001b[0;32m     29\u001b[0m }\n\u001b[0;32m     30\u001b[0m CONN\u001b[38;5;241m.\u001b[39mrequest(\u001b[38;5;124m\"\u001b[39m\u001b[38;5;124mGET\u001b[39m\u001b[38;5;124m\"\u001b[39m, \u001b[38;5;124mf\u001b[39m\u001b[38;5;124m\"\u001b[39m\u001b[38;5;124m/Windchill/servlet/odata/ClfStructure/ClfNodes(\u001b[39m\u001b[38;5;124m'\u001b[39m\u001b[38;5;132;01m{\u001b[39;00mnodename\u001b[38;5;132;01m}\u001b[39;00m\u001b[38;5;124m'\u001b[39m\u001b[38;5;124m)/ClassifiedObjects?$skiptoken=\u001b[39m\u001b[38;5;132;01m{\u001b[39;00mskiptoken\u001b[38;5;132;01m}\u001b[39;00m\u001b[38;5;124m\"\u001b[39m, payload, headers)\n\u001b[1;32m---> 31\u001b[0m res \u001b[38;5;241m=\u001b[39m \u001b[43mCONN\u001b[49m\u001b[38;5;241;43m.\u001b[39;49m\u001b[43mgetresponse\u001b[49m\u001b[43m(\u001b[49m\u001b[43m)\u001b[49m\n\u001b[0;32m     32\u001b[0m data \u001b[38;5;241m=\u001b[39m res\u001b[38;5;241m.\u001b[39mread()\u001b[38;5;241m.\u001b[39mdecode(\u001b[38;5;124m'\u001b[39m\u001b[38;5;124mutf8\u001b[39m\u001b[38;5;124m'\u001b[39m)\n\u001b[0;32m     33\u001b[0m res\u001b[38;5;241m.\u001b[39mclose()\n",
      "File \u001b[1;32mC:\\Program Files\\WindowsApps\\PythonSoftwareFoundation.Python.3.12_3.12.1264.0_x64__qbz5n2kfra8p0\\Lib\\http\\client.py:1428\u001b[0m, in \u001b[0;36mHTTPConnection.getresponse\u001b[1;34m(self)\u001b[0m\n\u001b[0;32m   1426\u001b[0m \u001b[38;5;28;01mtry\u001b[39;00m:\n\u001b[0;32m   1427\u001b[0m     \u001b[38;5;28;01mtry\u001b[39;00m:\n\u001b[1;32m-> 1428\u001b[0m         \u001b[43mresponse\u001b[49m\u001b[38;5;241;43m.\u001b[39;49m\u001b[43mbegin\u001b[49m\u001b[43m(\u001b[49m\u001b[43m)\u001b[49m\n\u001b[0;32m   1429\u001b[0m     \u001b[38;5;28;01mexcept\u001b[39;00m \u001b[38;5;167;01mConnectionError\u001b[39;00m:\n\u001b[0;32m   1430\u001b[0m         \u001b[38;5;28mself\u001b[39m\u001b[38;5;241m.\u001b[39mclose()\n",
      "File \u001b[1;32mC:\\Program Files\\WindowsApps\\PythonSoftwareFoundation.Python.3.12_3.12.1264.0_x64__qbz5n2kfra8p0\\Lib\\http\\client.py:331\u001b[0m, in \u001b[0;36mHTTPResponse.begin\u001b[1;34m(self)\u001b[0m\n\u001b[0;32m    329\u001b[0m \u001b[38;5;66;03m# read until we get a non-100 response\u001b[39;00m\n\u001b[0;32m    330\u001b[0m \u001b[38;5;28;01mwhile\u001b[39;00m \u001b[38;5;28;01mTrue\u001b[39;00m:\n\u001b[1;32m--> 331\u001b[0m     version, status, reason \u001b[38;5;241m=\u001b[39m \u001b[38;5;28;43mself\u001b[39;49m\u001b[38;5;241;43m.\u001b[39;49m\u001b[43m_read_status\u001b[49m\u001b[43m(\u001b[49m\u001b[43m)\u001b[49m\n\u001b[0;32m    332\u001b[0m     \u001b[38;5;28;01mif\u001b[39;00m status \u001b[38;5;241m!=\u001b[39m CONTINUE:\n\u001b[0;32m    333\u001b[0m         \u001b[38;5;28;01mbreak\u001b[39;00m\n",
      "File \u001b[1;32mC:\\Program Files\\WindowsApps\\PythonSoftwareFoundation.Python.3.12_3.12.1264.0_x64__qbz5n2kfra8p0\\Lib\\http\\client.py:292\u001b[0m, in \u001b[0;36mHTTPResponse._read_status\u001b[1;34m(self)\u001b[0m\n\u001b[0;32m    291\u001b[0m \u001b[38;5;28;01mdef\u001b[39;00m \u001b[38;5;21m_read_status\u001b[39m(\u001b[38;5;28mself\u001b[39m):\n\u001b[1;32m--> 292\u001b[0m     line \u001b[38;5;241m=\u001b[39m \u001b[38;5;28mstr\u001b[39m(\u001b[38;5;28;43mself\u001b[39;49m\u001b[38;5;241;43m.\u001b[39;49m\u001b[43mfp\u001b[49m\u001b[38;5;241;43m.\u001b[39;49m\u001b[43mreadline\u001b[49m\u001b[43m(\u001b[49m\u001b[43m_MAXLINE\u001b[49m\u001b[43m \u001b[49m\u001b[38;5;241;43m+\u001b[39;49m\u001b[43m \u001b[49m\u001b[38;5;241;43m1\u001b[39;49m\u001b[43m)\u001b[49m, \u001b[38;5;124m\"\u001b[39m\u001b[38;5;124miso-8859-1\u001b[39m\u001b[38;5;124m\"\u001b[39m)\n\u001b[0;32m    293\u001b[0m     \u001b[38;5;28;01mif\u001b[39;00m \u001b[38;5;28mlen\u001b[39m(line) \u001b[38;5;241m>\u001b[39m _MAXLINE:\n\u001b[0;32m    294\u001b[0m         \u001b[38;5;28;01mraise\u001b[39;00m LineTooLong(\u001b[38;5;124m\"\u001b[39m\u001b[38;5;124mstatus line\u001b[39m\u001b[38;5;124m\"\u001b[39m)\n",
      "File \u001b[1;32mC:\\Program Files\\WindowsApps\\PythonSoftwareFoundation.Python.3.12_3.12.1264.0_x64__qbz5n2kfra8p0\\Lib\\socket.py:708\u001b[0m, in \u001b[0;36mSocketIO.readinto\u001b[1;34m(self, b)\u001b[0m\n\u001b[0;32m    706\u001b[0m \u001b[38;5;28;01mwhile\u001b[39;00m \u001b[38;5;28;01mTrue\u001b[39;00m:\n\u001b[0;32m    707\u001b[0m     \u001b[38;5;28;01mtry\u001b[39;00m:\n\u001b[1;32m--> 708\u001b[0m         \u001b[38;5;28;01mreturn\u001b[39;00m \u001b[38;5;28;43mself\u001b[39;49m\u001b[38;5;241;43m.\u001b[39;49m\u001b[43m_sock\u001b[49m\u001b[38;5;241;43m.\u001b[39;49m\u001b[43mrecv_into\u001b[49m\u001b[43m(\u001b[49m\u001b[43mb\u001b[49m\u001b[43m)\u001b[49m\n\u001b[0;32m    709\u001b[0m     \u001b[38;5;28;01mexcept\u001b[39;00m timeout:\n\u001b[0;32m    710\u001b[0m         \u001b[38;5;28mself\u001b[39m\u001b[38;5;241m.\u001b[39m_timeout_occurred \u001b[38;5;241m=\u001b[39m \u001b[38;5;28;01mTrue\u001b[39;00m\n",
      "File \u001b[1;32mC:\\Program Files\\WindowsApps\\PythonSoftwareFoundation.Python.3.12_3.12.1264.0_x64__qbz5n2kfra8p0\\Lib\\ssl.py:1252\u001b[0m, in \u001b[0;36mSSLSocket.recv_into\u001b[1;34m(self, buffer, nbytes, flags)\u001b[0m\n\u001b[0;32m   1248\u001b[0m     \u001b[38;5;28;01mif\u001b[39;00m flags \u001b[38;5;241m!=\u001b[39m \u001b[38;5;241m0\u001b[39m:\n\u001b[0;32m   1249\u001b[0m         \u001b[38;5;28;01mraise\u001b[39;00m \u001b[38;5;167;01mValueError\u001b[39;00m(\n\u001b[0;32m   1250\u001b[0m           \u001b[38;5;124m\"\u001b[39m\u001b[38;5;124mnon-zero flags not allowed in calls to recv_into() on \u001b[39m\u001b[38;5;132;01m%s\u001b[39;00m\u001b[38;5;124m\"\u001b[39m \u001b[38;5;241m%\u001b[39m\n\u001b[0;32m   1251\u001b[0m           \u001b[38;5;28mself\u001b[39m\u001b[38;5;241m.\u001b[39m\u001b[38;5;18m__class__\u001b[39m)\n\u001b[1;32m-> 1252\u001b[0m     \u001b[38;5;28;01mreturn\u001b[39;00m \u001b[38;5;28;43mself\u001b[39;49m\u001b[38;5;241;43m.\u001b[39;49m\u001b[43mread\u001b[49m\u001b[43m(\u001b[49m\u001b[43mnbytes\u001b[49m\u001b[43m,\u001b[49m\u001b[43m \u001b[49m\u001b[43mbuffer\u001b[49m\u001b[43m)\u001b[49m\n\u001b[0;32m   1253\u001b[0m \u001b[38;5;28;01melse\u001b[39;00m:\n\u001b[0;32m   1254\u001b[0m     \u001b[38;5;28;01mreturn\u001b[39;00m \u001b[38;5;28msuper\u001b[39m()\u001b[38;5;241m.\u001b[39mrecv_into(buffer, nbytes, flags)\n",
      "File \u001b[1;32mC:\\Program Files\\WindowsApps\\PythonSoftwareFoundation.Python.3.12_3.12.1264.0_x64__qbz5n2kfra8p0\\Lib\\ssl.py:1104\u001b[0m, in \u001b[0;36mSSLSocket.read\u001b[1;34m(self, len, buffer)\u001b[0m\n\u001b[0;32m   1102\u001b[0m \u001b[38;5;28;01mtry\u001b[39;00m:\n\u001b[0;32m   1103\u001b[0m     \u001b[38;5;28;01mif\u001b[39;00m buffer \u001b[38;5;129;01mis\u001b[39;00m \u001b[38;5;129;01mnot\u001b[39;00m \u001b[38;5;28;01mNone\u001b[39;00m:\n\u001b[1;32m-> 1104\u001b[0m         \u001b[38;5;28;01mreturn\u001b[39;00m \u001b[38;5;28;43mself\u001b[39;49m\u001b[38;5;241;43m.\u001b[39;49m\u001b[43m_sslobj\u001b[49m\u001b[38;5;241;43m.\u001b[39;49m\u001b[43mread\u001b[49m\u001b[43m(\u001b[49m\u001b[38;5;28;43mlen\u001b[39;49m\u001b[43m,\u001b[49m\u001b[43m \u001b[49m\u001b[43mbuffer\u001b[49m\u001b[43m)\u001b[49m\n\u001b[0;32m   1105\u001b[0m     \u001b[38;5;28;01melse\u001b[39;00m:\n\u001b[0;32m   1106\u001b[0m         \u001b[38;5;28;01mreturn\u001b[39;00m \u001b[38;5;28mself\u001b[39m\u001b[38;5;241m.\u001b[39m_sslobj\u001b[38;5;241m.\u001b[39mread(\u001b[38;5;28mlen\u001b[39m)\n",
      "\u001b[1;31mKeyboardInterrupt\u001b[0m: "
     ]
    }
   ],
   "source": [
    "cable_probes = pd.DataFrame()\n",
    "pointer = 0\n",
    "\n",
    "while True:\n",
    "    data = ahp.read_from_windchill_per_node(\"TSGCableProbes\",pointer)\n",
    "    json_data = json.loads(data)\n",
    "    json_data_value = pd.DataFrame(json_data['value'])   \n",
    "    cable_probes = pd.concat([cable_probes, json_data_value], ignore_index=True)\n",
    "    \n",
    "    if '@odata.nextLink' not in json_data:\n",
    "        break\n",
    "    \n",
    "    pointer = json_data['@odata.nextLink'].split('=')[1]"
   ]
  },
  {
   "cell_type": "markdown",
   "metadata": {},
   "source": [
    "In the next step I am search for unique Names. Thats used to get the part-data from windchill for every unique cableprobe."
   ]
  },
  {
   "cell_type": "code",
   "execution_count": null,
   "metadata": {},
   "outputs": [
    {
     "name": "stdout",
     "output_type": "stream",
     "text": [
      "<class 'pandas.core.frame.DataFrame'>\n",
      "RangeIndex: 1228 entries, 0 to 1227\n",
      "Data columns (total 4 columns):\n",
      " #   Column                            Non-Null Count  Dtype \n",
      "---  ------                            --------------  ----- \n",
      " 0   ID                                1228 non-null   object\n",
      " 1   Name                              1228 non-null   object\n",
      " 2   ClfBindingAttributeAndNodeValues  1228 non-null   object\n",
      " 3   ClassificationAttributes          1228 non-null   object\n",
      "dtypes: object(4)\n",
      "memory usage: 38.5+ KB\n"
     ]
    }
   ],
   "source": [
    "cable_probes.to_parquet('../../cache/cable_probes_from_db.parquet')"
   ]
  },
  {
   "cell_type": "code",
   "execution_count": null,
   "metadata": {},
   "outputs": [],
   "source": [
    "unique_cable = cable_probes['Name'].unique()"
   ]
  },
  {
   "cell_type": "code",
   "execution_count": null,
   "metadata": {},
   "outputs": [],
   "source": [
    "pd.DataFrame(unique_cable).to_parquet('../../cache/cable_probes_names_unique_db.parquet')"
   ]
  },
  {
   "cell_type": "code",
   "execution_count": 3,
   "metadata": {},
   "outputs": [
    {
     "name": "stdout",
     "output_type": "stream",
     "text": [
      "<class 'pandas.core.frame.DataFrame'>\n",
      "RangeIndex: 405 entries, 0 to 404\n",
      "Data columns (total 1 columns):\n",
      " #   Column  Non-Null Count  Dtype \n",
      "---  ------  --------------  ----- \n",
      " 0   0       405 non-null    object\n",
      "dtypes: object(1)\n",
      "memory usage: 3.3+ KB\n"
     ]
    }
   ],
   "source": [
    "pd.read_parquet('../../cache/cable_probes_names_unique_db.parquet').info()"
   ]
  },
  {
   "cell_type": "code",
   "execution_count": 6,
   "metadata": {},
   "outputs": [
    {
     "ename": "NameError",
     "evalue": "name 'unique_cable' is not defined",
     "output_type": "error",
     "traceback": [
      "\u001b[1;31m---------------------------------------------------------------------------\u001b[0m",
      "\u001b[1;31mNameError\u001b[0m                                 Traceback (most recent call last)",
      "Cell \u001b[1;32mIn[6], line 3\u001b[0m\n\u001b[0;32m      1\u001b[0m cable_probes_values \u001b[38;5;241m=\u001b[39m pd\u001b[38;5;241m.\u001b[39mDataFrame()\n\u001b[0;32m      2\u001b[0m counter \u001b[38;5;241m=\u001b[39m \u001b[38;5;241m0\u001b[39m\n\u001b[1;32m----> 3\u001b[0m \u001b[38;5;28;01mfor\u001b[39;00m name \u001b[38;5;129;01min\u001b[39;00m \u001b[43munique_cable\u001b[49m:\n\u001b[0;32m      4\u001b[0m     counter \u001b[38;5;241m+\u001b[39m\u001b[38;5;241m=\u001b[39m\u001b[38;5;241m1\u001b[39m\n\u001b[0;32m      5\u001b[0m     data \u001b[38;5;241m=\u001b[39m ahp\u001b[38;5;241m.\u001b[39mread_from_windchill_per_name(name)\n",
      "\u001b[1;31mNameError\u001b[0m: name 'unique_cable' is not defined"
     ]
    }
   ],
   "source": [
    "cable_probes_values = pd.DataFrame()\n",
    "counter = 0\n",
    "for name in unique_cable:\n",
    "    counter +=1\n",
    "    data = ahp.read_from_windchill_per_name(name)\n",
    "    print(data)\n",
    "    json_data = json.loads(data)\n",
    "    json_data_value = pd.DataFrame(json_data['value'])   \n",
    "    cable_probes_values = pd.concat([cable_probes_values, json_data_value], ignore_index=True)\n",
    "    "
   ]
  },
  {
   "cell_type": "code",
   "execution_count": null,
   "metadata": {},
   "outputs": [],
   "source": [
    "cable_probes_values.to_parquet('../../cache/cable_probes_values_from_db.parquet')"
   ]
  },
  {
   "cell_type": "code",
   "execution_count": 8,
   "metadata": {},
   "outputs": [],
   "source": [
    "#cable_probes_values = pd.read_parquet('../../cache/TSGCableProbes_values_from_db.parquet')"
   ]
  },
  {
   "cell_type": "markdown",
   "metadata": {},
   "source": [
    "Then I use this data to recieve the specs of the parts which are used in the cableprobe. Therefor I search for the used parts."
   ]
  },
  {
   "cell_type": "code",
   "execution_count": 11,
   "metadata": {},
   "outputs": [
    {
     "name": "stdout",
     "output_type": "stream",
     "text": [
      "just ran step read_use_from_windchill_per_oid took 0:00:00s\n",
      "Error: Request-sent\n"
     ]
    },
    {
     "ename": "JSONDecodeError",
     "evalue": "Expecting value: line 1 column 1 (char 0)",
     "output_type": "error",
     "traceback": [
      "\u001b[1;31m---------------------------------------------------------------------------\u001b[0m",
      "\u001b[1;31mJSONDecodeError\u001b[0m                           Traceback (most recent call last)",
      "Cell \u001b[1;32mIn[11], line 5\u001b[0m\n\u001b[0;32m      3\u001b[0m data \u001b[38;5;241m=\u001b[39m ahp\u001b[38;5;241m.\u001b[39mread_use_from_windchill_per_oid(\u001b[38;5;28mid\u001b[39m)\n\u001b[0;32m      4\u001b[0m \u001b[38;5;28mprint\u001b[39m(data)\n\u001b[1;32m----> 5\u001b[0m json_data \u001b[38;5;241m=\u001b[39m \u001b[43mjson\u001b[49m\u001b[38;5;241;43m.\u001b[39;49m\u001b[43mloads\u001b[49m\u001b[43m(\u001b[49m\u001b[43mdata\u001b[49m\u001b[43m)\u001b[49m\n\u001b[0;32m      6\u001b[0m \u001b[38;5;28;01mfor\u001b[39;00m item \u001b[38;5;129;01min\u001b[39;00m json_data[\u001b[38;5;124m'\u001b[39m\u001b[38;5;124mvalue\u001b[39m\u001b[38;5;124m'\u001b[39m]:\n\u001b[0;32m      7\u001b[0m     values\u001b[38;5;241m=\u001b[39m item[\u001b[38;5;124m'\u001b[39m\u001b[38;5;124mPart\u001b[39m\u001b[38;5;124m'\u001b[39m]\n",
      "File \u001b[1;32mC:\\Program Files\\WindowsApps\\PythonSoftwareFoundation.Python.3.12_3.12.1264.0_x64__qbz5n2kfra8p0\\Lib\\json\\__init__.py:346\u001b[0m, in \u001b[0;36mloads\u001b[1;34m(s, cls, object_hook, parse_float, parse_int, parse_constant, object_pairs_hook, **kw)\u001b[0m\n\u001b[0;32m    341\u001b[0m     s \u001b[38;5;241m=\u001b[39m s\u001b[38;5;241m.\u001b[39mdecode(detect_encoding(s), \u001b[38;5;124m'\u001b[39m\u001b[38;5;124msurrogatepass\u001b[39m\u001b[38;5;124m'\u001b[39m)\n\u001b[0;32m    343\u001b[0m \u001b[38;5;28;01mif\u001b[39;00m (\u001b[38;5;28mcls\u001b[39m \u001b[38;5;129;01mis\u001b[39;00m \u001b[38;5;28;01mNone\u001b[39;00m \u001b[38;5;129;01mand\u001b[39;00m object_hook \u001b[38;5;129;01mis\u001b[39;00m \u001b[38;5;28;01mNone\u001b[39;00m \u001b[38;5;129;01mand\u001b[39;00m\n\u001b[0;32m    344\u001b[0m         parse_int \u001b[38;5;129;01mis\u001b[39;00m \u001b[38;5;28;01mNone\u001b[39;00m \u001b[38;5;129;01mand\u001b[39;00m parse_float \u001b[38;5;129;01mis\u001b[39;00m \u001b[38;5;28;01mNone\u001b[39;00m \u001b[38;5;129;01mand\u001b[39;00m\n\u001b[0;32m    345\u001b[0m         parse_constant \u001b[38;5;129;01mis\u001b[39;00m \u001b[38;5;28;01mNone\u001b[39;00m \u001b[38;5;129;01mand\u001b[39;00m object_pairs_hook \u001b[38;5;129;01mis\u001b[39;00m \u001b[38;5;28;01mNone\u001b[39;00m \u001b[38;5;129;01mand\u001b[39;00m \u001b[38;5;129;01mnot\u001b[39;00m kw):\n\u001b[1;32m--> 346\u001b[0m     \u001b[38;5;28;01mreturn\u001b[39;00m \u001b[43m_default_decoder\u001b[49m\u001b[38;5;241;43m.\u001b[39;49m\u001b[43mdecode\u001b[49m\u001b[43m(\u001b[49m\u001b[43ms\u001b[49m\u001b[43m)\u001b[49m\n\u001b[0;32m    347\u001b[0m \u001b[38;5;28;01mif\u001b[39;00m \u001b[38;5;28mcls\u001b[39m \u001b[38;5;129;01mis\u001b[39;00m \u001b[38;5;28;01mNone\u001b[39;00m:\n\u001b[0;32m    348\u001b[0m     \u001b[38;5;28mcls\u001b[39m \u001b[38;5;241m=\u001b[39m JSONDecoder\n",
      "File \u001b[1;32mC:\\Program Files\\WindowsApps\\PythonSoftwareFoundation.Python.3.12_3.12.1264.0_x64__qbz5n2kfra8p0\\Lib\\json\\decoder.py:337\u001b[0m, in \u001b[0;36mJSONDecoder.decode\u001b[1;34m(self, s, _w)\u001b[0m\n\u001b[0;32m    332\u001b[0m \u001b[38;5;28;01mdef\u001b[39;00m \u001b[38;5;21mdecode\u001b[39m(\u001b[38;5;28mself\u001b[39m, s, _w\u001b[38;5;241m=\u001b[39mWHITESPACE\u001b[38;5;241m.\u001b[39mmatch):\n\u001b[0;32m    333\u001b[0m \u001b[38;5;250m    \u001b[39m\u001b[38;5;124;03m\"\"\"Return the Python representation of ``s`` (a ``str`` instance\u001b[39;00m\n\u001b[0;32m    334\u001b[0m \u001b[38;5;124;03m    containing a JSON document).\u001b[39;00m\n\u001b[0;32m    335\u001b[0m \n\u001b[0;32m    336\u001b[0m \u001b[38;5;124;03m    \"\"\"\u001b[39;00m\n\u001b[1;32m--> 337\u001b[0m     obj, end \u001b[38;5;241m=\u001b[39m \u001b[38;5;28;43mself\u001b[39;49m\u001b[38;5;241;43m.\u001b[39;49m\u001b[43mraw_decode\u001b[49m\u001b[43m(\u001b[49m\u001b[43ms\u001b[49m\u001b[43m,\u001b[49m\u001b[43m \u001b[49m\u001b[43midx\u001b[49m\u001b[38;5;241;43m=\u001b[39;49m\u001b[43m_w\u001b[49m\u001b[43m(\u001b[49m\u001b[43ms\u001b[49m\u001b[43m,\u001b[49m\u001b[43m \u001b[49m\u001b[38;5;241;43m0\u001b[39;49m\u001b[43m)\u001b[49m\u001b[38;5;241;43m.\u001b[39;49m\u001b[43mend\u001b[49m\u001b[43m(\u001b[49m\u001b[43m)\u001b[49m\u001b[43m)\u001b[49m\n\u001b[0;32m    338\u001b[0m     end \u001b[38;5;241m=\u001b[39m _w(s, end)\u001b[38;5;241m.\u001b[39mend()\n\u001b[0;32m    339\u001b[0m     \u001b[38;5;28;01mif\u001b[39;00m end \u001b[38;5;241m!=\u001b[39m \u001b[38;5;28mlen\u001b[39m(s):\n",
      "File \u001b[1;32mC:\\Program Files\\WindowsApps\\PythonSoftwareFoundation.Python.3.12_3.12.1264.0_x64__qbz5n2kfra8p0\\Lib\\json\\decoder.py:355\u001b[0m, in \u001b[0;36mJSONDecoder.raw_decode\u001b[1;34m(self, s, idx)\u001b[0m\n\u001b[0;32m    353\u001b[0m     obj, end \u001b[38;5;241m=\u001b[39m \u001b[38;5;28mself\u001b[39m\u001b[38;5;241m.\u001b[39mscan_once(s, idx)\n\u001b[0;32m    354\u001b[0m \u001b[38;5;28;01mexcept\u001b[39;00m \u001b[38;5;167;01mStopIteration\u001b[39;00m \u001b[38;5;28;01mas\u001b[39;00m err:\n\u001b[1;32m--> 355\u001b[0m     \u001b[38;5;28;01mraise\u001b[39;00m JSONDecodeError(\u001b[38;5;124m\"\u001b[39m\u001b[38;5;124mExpecting value\u001b[39m\u001b[38;5;124m\"\u001b[39m, s, err\u001b[38;5;241m.\u001b[39mvalue) \u001b[38;5;28;01mfrom\u001b[39;00m \u001b[38;5;28;01mNone\u001b[39;00m\n\u001b[0;32m    356\u001b[0m \u001b[38;5;28;01mreturn\u001b[39;00m obj, end\n",
      "\u001b[1;31mJSONDecodeError\u001b[0m: Expecting value: line 1 column 1 (char 0)"
     ]
    }
   ],
   "source": [
    "parts_used_list = []\n",
    "for id in cable_probes_values['ID']:\n",
    "    data = ahp.read_use_from_windchill_per_oid(id)\n",
    "    #print(data)\n",
    "    json_data = json.loads(data)\n",
    "    for item in json_data['value']:\n",
    "        values= item['Part']\n",
    "        df = pd.DataFrame([values])\n",
    "        parts_used_list.append(df)\n",
    "parts_used = pd.concat(parts_used_list, ignore_index=True)"
   ]
  },
  {
   "cell_type": "code",
   "execution_count": null,
   "metadata": {},
   "outputs": [
    {
     "ename": "OSError",
     "evalue": "Cannot save file into a non-existent directory: '..\\..\\res\\results\\cache'",
     "output_type": "error",
     "traceback": [
      "\u001b[1;31m---------------------------------------------------------------------------\u001b[0m",
      "\u001b[1;31mOSError\u001b[0m                                   Traceback (most recent call last)",
      "Cell \u001b[1;32mIn[31], line 1\u001b[0m\n\u001b[1;32m----> 1\u001b[0m \u001b[43mparts_used\u001b[49m\u001b[38;5;241;43m.\u001b[39;49m\u001b[43mto_parquet\u001b[49m\u001b[43m(\u001b[49m\u001b[38;5;124;43m'\u001b[39;49m\u001b[38;5;124;43m../../res/results/cache/cable_probes_parts_uses_from_db.parquet\u001b[39;49m\u001b[38;5;124;43m'\u001b[39;49m\u001b[43m)\u001b[49m\n",
      "File \u001b[1;32mc:\\dev\\projects\\ai-tsg\\venv\\Lib\\site-packages\\pandas\\util\\_decorators.py:333\u001b[0m, in \u001b[0;36mdeprecate_nonkeyword_arguments.<locals>.decorate.<locals>.wrapper\u001b[1;34m(*args, **kwargs)\u001b[0m\n\u001b[0;32m    327\u001b[0m \u001b[38;5;28;01mif\u001b[39;00m \u001b[38;5;28mlen\u001b[39m(args) \u001b[38;5;241m>\u001b[39m num_allow_args:\n\u001b[0;32m    328\u001b[0m     warnings\u001b[38;5;241m.\u001b[39mwarn(\n\u001b[0;32m    329\u001b[0m         msg\u001b[38;5;241m.\u001b[39mformat(arguments\u001b[38;5;241m=\u001b[39m_format_argument_list(allow_args)),\n\u001b[0;32m    330\u001b[0m         \u001b[38;5;167;01mFutureWarning\u001b[39;00m,\n\u001b[0;32m    331\u001b[0m         stacklevel\u001b[38;5;241m=\u001b[39mfind_stack_level(),\n\u001b[0;32m    332\u001b[0m     )\n\u001b[1;32m--> 333\u001b[0m \u001b[38;5;28;01mreturn\u001b[39;00m \u001b[43mfunc\u001b[49m\u001b[43m(\u001b[49m\u001b[38;5;241;43m*\u001b[39;49m\u001b[43margs\u001b[49m\u001b[43m,\u001b[49m\u001b[43m \u001b[49m\u001b[38;5;241;43m*\u001b[39;49m\u001b[38;5;241;43m*\u001b[39;49m\u001b[43mkwargs\u001b[49m\u001b[43m)\u001b[49m\n",
      "File \u001b[1;32mc:\\dev\\projects\\ai-tsg\\venv\\Lib\\site-packages\\pandas\\core\\frame.py:3101\u001b[0m, in \u001b[0;36mDataFrame.to_parquet\u001b[1;34m(self, path, engine, compression, index, partition_cols, storage_options, **kwargs)\u001b[0m\n\u001b[0;32m   3020\u001b[0m \u001b[38;5;250m\u001b[39m\u001b[38;5;124;03m\"\"\"\u001b[39;00m\n\u001b[0;32m   3021\u001b[0m \u001b[38;5;124;03mWrite a DataFrame to the binary parquet format.\u001b[39;00m\n\u001b[0;32m   3022\u001b[0m \n\u001b[1;32m   (...)\u001b[0m\n\u001b[0;32m   3097\u001b[0m \u001b[38;5;124;03m>>> content = f.read()\u001b[39;00m\n\u001b[0;32m   3098\u001b[0m \u001b[38;5;124;03m\"\"\"\u001b[39;00m\n\u001b[0;32m   3099\u001b[0m \u001b[38;5;28;01mfrom\u001b[39;00m \u001b[38;5;21;01mpandas\u001b[39;00m\u001b[38;5;21;01m.\u001b[39;00m\u001b[38;5;21;01mio\u001b[39;00m\u001b[38;5;21;01m.\u001b[39;00m\u001b[38;5;21;01mparquet\u001b[39;00m \u001b[38;5;28;01mimport\u001b[39;00m to_parquet\n\u001b[1;32m-> 3101\u001b[0m \u001b[38;5;28;01mreturn\u001b[39;00m \u001b[43mto_parquet\u001b[49m\u001b[43m(\u001b[49m\n\u001b[0;32m   3102\u001b[0m \u001b[43m    \u001b[49m\u001b[38;5;28;43mself\u001b[39;49m\u001b[43m,\u001b[49m\n\u001b[0;32m   3103\u001b[0m \u001b[43m    \u001b[49m\u001b[43mpath\u001b[49m\u001b[43m,\u001b[49m\n\u001b[0;32m   3104\u001b[0m \u001b[43m    \u001b[49m\u001b[43mengine\u001b[49m\u001b[43m,\u001b[49m\n\u001b[0;32m   3105\u001b[0m \u001b[43m    \u001b[49m\u001b[43mcompression\u001b[49m\u001b[38;5;241;43m=\u001b[39;49m\u001b[43mcompression\u001b[49m\u001b[43m,\u001b[49m\n\u001b[0;32m   3106\u001b[0m \u001b[43m    \u001b[49m\u001b[43mindex\u001b[49m\u001b[38;5;241;43m=\u001b[39;49m\u001b[43mindex\u001b[49m\u001b[43m,\u001b[49m\n\u001b[0;32m   3107\u001b[0m \u001b[43m    \u001b[49m\u001b[43mpartition_cols\u001b[49m\u001b[38;5;241;43m=\u001b[39;49m\u001b[43mpartition_cols\u001b[49m\u001b[43m,\u001b[49m\n\u001b[0;32m   3108\u001b[0m \u001b[43m    \u001b[49m\u001b[43mstorage_options\u001b[49m\u001b[38;5;241;43m=\u001b[39;49m\u001b[43mstorage_options\u001b[49m\u001b[43m,\u001b[49m\n\u001b[0;32m   3109\u001b[0m \u001b[43m    \u001b[49m\u001b[38;5;241;43m*\u001b[39;49m\u001b[38;5;241;43m*\u001b[39;49m\u001b[43mkwargs\u001b[49m\u001b[43m,\u001b[49m\n\u001b[0;32m   3110\u001b[0m \u001b[43m\u001b[49m\u001b[43m)\u001b[49m\n",
      "File \u001b[1;32mc:\\dev\\projects\\ai-tsg\\venv\\Lib\\site-packages\\pandas\\io\\parquet.py:480\u001b[0m, in \u001b[0;36mto_parquet\u001b[1;34m(df, path, engine, compression, index, storage_options, partition_cols, filesystem, **kwargs)\u001b[0m\n\u001b[0;32m    476\u001b[0m impl \u001b[38;5;241m=\u001b[39m get_engine(engine)\n\u001b[0;32m    478\u001b[0m path_or_buf: FilePath \u001b[38;5;241m|\u001b[39m WriteBuffer[\u001b[38;5;28mbytes\u001b[39m] \u001b[38;5;241m=\u001b[39m io\u001b[38;5;241m.\u001b[39mBytesIO() \u001b[38;5;28;01mif\u001b[39;00m path \u001b[38;5;129;01mis\u001b[39;00m \u001b[38;5;28;01mNone\u001b[39;00m \u001b[38;5;28;01melse\u001b[39;00m path\n\u001b[1;32m--> 480\u001b[0m \u001b[43mimpl\u001b[49m\u001b[38;5;241;43m.\u001b[39;49m\u001b[43mwrite\u001b[49m\u001b[43m(\u001b[49m\n\u001b[0;32m    481\u001b[0m \u001b[43m    \u001b[49m\u001b[43mdf\u001b[49m\u001b[43m,\u001b[49m\n\u001b[0;32m    482\u001b[0m \u001b[43m    \u001b[49m\u001b[43mpath_or_buf\u001b[49m\u001b[43m,\u001b[49m\n\u001b[0;32m    483\u001b[0m \u001b[43m    \u001b[49m\u001b[43mcompression\u001b[49m\u001b[38;5;241;43m=\u001b[39;49m\u001b[43mcompression\u001b[49m\u001b[43m,\u001b[49m\n\u001b[0;32m    484\u001b[0m \u001b[43m    \u001b[49m\u001b[43mindex\u001b[49m\u001b[38;5;241;43m=\u001b[39;49m\u001b[43mindex\u001b[49m\u001b[43m,\u001b[49m\n\u001b[0;32m    485\u001b[0m \u001b[43m    \u001b[49m\u001b[43mpartition_cols\u001b[49m\u001b[38;5;241;43m=\u001b[39;49m\u001b[43mpartition_cols\u001b[49m\u001b[43m,\u001b[49m\n\u001b[0;32m    486\u001b[0m \u001b[43m    \u001b[49m\u001b[43mstorage_options\u001b[49m\u001b[38;5;241;43m=\u001b[39;49m\u001b[43mstorage_options\u001b[49m\u001b[43m,\u001b[49m\n\u001b[0;32m    487\u001b[0m \u001b[43m    \u001b[49m\u001b[43mfilesystem\u001b[49m\u001b[38;5;241;43m=\u001b[39;49m\u001b[43mfilesystem\u001b[49m\u001b[43m,\u001b[49m\n\u001b[0;32m    488\u001b[0m \u001b[43m    \u001b[49m\u001b[38;5;241;43m*\u001b[39;49m\u001b[38;5;241;43m*\u001b[39;49m\u001b[43mkwargs\u001b[49m\u001b[43m,\u001b[49m\n\u001b[0;32m    489\u001b[0m \u001b[43m\u001b[49m\u001b[43m)\u001b[49m\n\u001b[0;32m    491\u001b[0m \u001b[38;5;28;01mif\u001b[39;00m path \u001b[38;5;129;01mis\u001b[39;00m \u001b[38;5;28;01mNone\u001b[39;00m:\n\u001b[0;32m    492\u001b[0m     \u001b[38;5;28;01massert\u001b[39;00m \u001b[38;5;28misinstance\u001b[39m(path_or_buf, io\u001b[38;5;241m.\u001b[39mBytesIO)\n",
      "File \u001b[1;32mc:\\dev\\projects\\ai-tsg\\venv\\Lib\\site-packages\\pandas\\io\\parquet.py:198\u001b[0m, in \u001b[0;36mPyArrowImpl.write\u001b[1;34m(self, df, path, compression, index, storage_options, partition_cols, filesystem, **kwargs)\u001b[0m\n\u001b[0;32m    195\u001b[0m     merged_metadata \u001b[38;5;241m=\u001b[39m {\u001b[38;5;241m*\u001b[39m\u001b[38;5;241m*\u001b[39mexisting_metadata, \u001b[38;5;241m*\u001b[39m\u001b[38;5;241m*\u001b[39mdf_metadata}\n\u001b[0;32m    196\u001b[0m     table \u001b[38;5;241m=\u001b[39m table\u001b[38;5;241m.\u001b[39mreplace_schema_metadata(merged_metadata)\n\u001b[1;32m--> 198\u001b[0m path_or_handle, handles, filesystem \u001b[38;5;241m=\u001b[39m \u001b[43m_get_path_or_handle\u001b[49m\u001b[43m(\u001b[49m\n\u001b[0;32m    199\u001b[0m \u001b[43m    \u001b[49m\u001b[43mpath\u001b[49m\u001b[43m,\u001b[49m\n\u001b[0;32m    200\u001b[0m \u001b[43m    \u001b[49m\u001b[43mfilesystem\u001b[49m\u001b[43m,\u001b[49m\n\u001b[0;32m    201\u001b[0m \u001b[43m    \u001b[49m\u001b[43mstorage_options\u001b[49m\u001b[38;5;241;43m=\u001b[39;49m\u001b[43mstorage_options\u001b[49m\u001b[43m,\u001b[49m\n\u001b[0;32m    202\u001b[0m \u001b[43m    \u001b[49m\u001b[43mmode\u001b[49m\u001b[38;5;241;43m=\u001b[39;49m\u001b[38;5;124;43m\"\u001b[39;49m\u001b[38;5;124;43mwb\u001b[39;49m\u001b[38;5;124;43m\"\u001b[39;49m\u001b[43m,\u001b[49m\n\u001b[0;32m    203\u001b[0m \u001b[43m    \u001b[49m\u001b[43mis_dir\u001b[49m\u001b[38;5;241;43m=\u001b[39;49m\u001b[43mpartition_cols\u001b[49m\u001b[43m \u001b[49m\u001b[38;5;129;43;01mis\u001b[39;49;00m\u001b[43m \u001b[49m\u001b[38;5;129;43;01mnot\u001b[39;49;00m\u001b[43m \u001b[49m\u001b[38;5;28;43;01mNone\u001b[39;49;00m\u001b[43m,\u001b[49m\n\u001b[0;32m    204\u001b[0m \u001b[43m\u001b[49m\u001b[43m)\u001b[49m\n\u001b[0;32m    205\u001b[0m \u001b[38;5;28;01mif\u001b[39;00m (\n\u001b[0;32m    206\u001b[0m     \u001b[38;5;28misinstance\u001b[39m(path_or_handle, io\u001b[38;5;241m.\u001b[39mBufferedWriter)\n\u001b[0;32m    207\u001b[0m     \u001b[38;5;129;01mand\u001b[39;00m \u001b[38;5;28mhasattr\u001b[39m(path_or_handle, \u001b[38;5;124m\"\u001b[39m\u001b[38;5;124mname\u001b[39m\u001b[38;5;124m\"\u001b[39m)\n\u001b[0;32m    208\u001b[0m     \u001b[38;5;129;01mand\u001b[39;00m \u001b[38;5;28misinstance\u001b[39m(path_or_handle\u001b[38;5;241m.\u001b[39mname, (\u001b[38;5;28mstr\u001b[39m, \u001b[38;5;28mbytes\u001b[39m))\n\u001b[0;32m    209\u001b[0m ):\n\u001b[0;32m    210\u001b[0m     \u001b[38;5;28;01mif\u001b[39;00m \u001b[38;5;28misinstance\u001b[39m(path_or_handle\u001b[38;5;241m.\u001b[39mname, \u001b[38;5;28mbytes\u001b[39m):\n",
      "File \u001b[1;32mc:\\dev\\projects\\ai-tsg\\venv\\Lib\\site-packages\\pandas\\io\\parquet.py:140\u001b[0m, in \u001b[0;36m_get_path_or_handle\u001b[1;34m(path, fs, storage_options, mode, is_dir)\u001b[0m\n\u001b[0;32m    130\u001b[0m handles \u001b[38;5;241m=\u001b[39m \u001b[38;5;28;01mNone\u001b[39;00m\n\u001b[0;32m    131\u001b[0m \u001b[38;5;28;01mif\u001b[39;00m (\n\u001b[0;32m    132\u001b[0m     \u001b[38;5;129;01mnot\u001b[39;00m fs\n\u001b[0;32m    133\u001b[0m     \u001b[38;5;129;01mand\u001b[39;00m \u001b[38;5;129;01mnot\u001b[39;00m is_dir\n\u001b[1;32m   (...)\u001b[0m\n\u001b[0;32m    138\u001b[0m     \u001b[38;5;66;03m# fsspec resources can also point to directories\u001b[39;00m\n\u001b[0;32m    139\u001b[0m     \u001b[38;5;66;03m# this branch is used for example when reading from non-fsspec URLs\u001b[39;00m\n\u001b[1;32m--> 140\u001b[0m     handles \u001b[38;5;241m=\u001b[39m \u001b[43mget_handle\u001b[49m\u001b[43m(\u001b[49m\n\u001b[0;32m    141\u001b[0m \u001b[43m        \u001b[49m\u001b[43mpath_or_handle\u001b[49m\u001b[43m,\u001b[49m\u001b[43m \u001b[49m\u001b[43mmode\u001b[49m\u001b[43m,\u001b[49m\u001b[43m \u001b[49m\u001b[43mis_text\u001b[49m\u001b[38;5;241;43m=\u001b[39;49m\u001b[38;5;28;43;01mFalse\u001b[39;49;00m\u001b[43m,\u001b[49m\u001b[43m \u001b[49m\u001b[43mstorage_options\u001b[49m\u001b[38;5;241;43m=\u001b[39;49m\u001b[43mstorage_options\u001b[49m\n\u001b[0;32m    142\u001b[0m \u001b[43m    \u001b[49m\u001b[43m)\u001b[49m\n\u001b[0;32m    143\u001b[0m     fs \u001b[38;5;241m=\u001b[39m \u001b[38;5;28;01mNone\u001b[39;00m\n\u001b[0;32m    144\u001b[0m     path_or_handle \u001b[38;5;241m=\u001b[39m handles\u001b[38;5;241m.\u001b[39mhandle\n",
      "File \u001b[1;32mc:\\dev\\projects\\ai-tsg\\venv\\Lib\\site-packages\\pandas\\io\\common.py:749\u001b[0m, in \u001b[0;36mget_handle\u001b[1;34m(path_or_buf, mode, encoding, compression, memory_map, is_text, errors, storage_options)\u001b[0m\n\u001b[0;32m    747\u001b[0m \u001b[38;5;66;03m# Only for write methods\u001b[39;00m\n\u001b[0;32m    748\u001b[0m \u001b[38;5;28;01mif\u001b[39;00m \u001b[38;5;124m\"\u001b[39m\u001b[38;5;124mr\u001b[39m\u001b[38;5;124m\"\u001b[39m \u001b[38;5;129;01mnot\u001b[39;00m \u001b[38;5;129;01min\u001b[39;00m mode \u001b[38;5;129;01mand\u001b[39;00m is_path:\n\u001b[1;32m--> 749\u001b[0m     \u001b[43mcheck_parent_directory\u001b[49m\u001b[43m(\u001b[49m\u001b[38;5;28;43mstr\u001b[39;49m\u001b[43m(\u001b[49m\u001b[43mhandle\u001b[49m\u001b[43m)\u001b[49m\u001b[43m)\u001b[49m\n\u001b[0;32m    751\u001b[0m \u001b[38;5;28;01mif\u001b[39;00m compression:\n\u001b[0;32m    752\u001b[0m     \u001b[38;5;28;01mif\u001b[39;00m compression \u001b[38;5;241m!=\u001b[39m \u001b[38;5;124m\"\u001b[39m\u001b[38;5;124mzstd\u001b[39m\u001b[38;5;124m\"\u001b[39m:\n\u001b[0;32m    753\u001b[0m         \u001b[38;5;66;03m# compression libraries do not like an explicit text-mode\u001b[39;00m\n",
      "File \u001b[1;32mc:\\dev\\projects\\ai-tsg\\venv\\Lib\\site-packages\\pandas\\io\\common.py:616\u001b[0m, in \u001b[0;36mcheck_parent_directory\u001b[1;34m(path)\u001b[0m\n\u001b[0;32m    614\u001b[0m parent \u001b[38;5;241m=\u001b[39m Path(path)\u001b[38;5;241m.\u001b[39mparent\n\u001b[0;32m    615\u001b[0m \u001b[38;5;28;01mif\u001b[39;00m \u001b[38;5;129;01mnot\u001b[39;00m parent\u001b[38;5;241m.\u001b[39mis_dir():\n\u001b[1;32m--> 616\u001b[0m     \u001b[38;5;28;01mraise\u001b[39;00m \u001b[38;5;167;01mOSError\u001b[39;00m(\u001b[38;5;124mrf\u001b[39m\u001b[38;5;124m\"\u001b[39m\u001b[38;5;124mCannot save file into a non-existent directory: \u001b[39m\u001b[38;5;124m'\u001b[39m\u001b[38;5;132;01m{\u001b[39;00mparent\u001b[38;5;132;01m}\u001b[39;00m\u001b[38;5;124m'\u001b[39m\u001b[38;5;124m\"\u001b[39m)\n",
      "\u001b[1;31mOSError\u001b[0m: Cannot save file into a non-existent directory: '..\\..\\res\\results\\cache'"
     ]
    }
   ],
   "source": [
    "parts_used.to_parquet('../../res/results/cache/cable_probes_parts_uses_from_db.parquet')"
   ]
  },
  {
   "cell_type": "markdown",
   "metadata": {},
   "source": [
    "In the last step I count the different parts to show the usage of different parts."
   ]
  },
  {
   "cell_type": "code",
   "execution_count": null,
   "metadata": {},
   "outputs": [],
   "source": [
    "parts_used = pd.read_parquet('../../cache/cable_probes_parts_uses_from_db.parquet')"
   ]
  },
  {
   "cell_type": "code",
   "execution_count": null,
   "metadata": {},
   "outputs": [],
   "source": [
    "parts_used = parts_used[~parts_used[\"ID\"].isin(cable_probes_values['ID'])]"
   ]
  },
  {
   "cell_type": "code",
   "execution_count": null,
   "metadata": {},
   "outputs": [
    {
     "name": "stdout",
     "output_type": "stream",
     "text": [
      "just ran step start_pipeline shape=(2880, 58) took 0:00:00.001956s\n",
      "just ran step group_by_and_count shape=(560,) took 0:00:00.001586s\n"
     ]
    }
   ],
   "source": [
    "parts_used_grouped = (parts_used.pipe(php.start_pipeline)\n",
    "    .pipe(php.group_by_and_count, column_name=\"SAPMATNR\"))\n",
    "parts_used_grouped.name = 'Count'"
   ]
  },
  {
   "cell_type": "code",
   "execution_count": null,
   "metadata": {},
   "outputs": [
    {
     "ename": "NameError",
     "evalue": "name 'pd' is not defined",
     "output_type": "error",
     "traceback": [
      "\u001b[1;31m---------------------------------------------------------------------------\u001b[0m",
      "\u001b[1;31mNameError\u001b[0m                                 Traceback (most recent call last)",
      "Cell \u001b[1;32mIn[2], line 1\u001b[0m\n\u001b[1;32m----> 1\u001b[0m \u001b[43mpd\u001b[49m\u001b[38;5;241m.\u001b[39mDataFrame(parts_used_grouped)\u001b[38;5;241m.\u001b[39mto_parquet(\u001b[38;5;124m'\u001b[39m\u001b[38;5;124m../../cache/cable_probes_parts_used_grouped_from_db.parquet\u001b[39m\u001b[38;5;124m'\u001b[39m)\n",
      "\u001b[1;31mNameError\u001b[0m: name 'pd' is not defined"
     ]
    }
   ],
   "source": [
    "pd.DataFrame(parts_used_grouped).to_parquet('../../cache/cable_probes_parts_used_grouped_from_db.parquet')"
   ]
  },
  {
   "cell_type": "code",
   "execution_count": null,
   "metadata": {},
   "outputs": [],
   "source": [
    "merged = pd.merge(parts_used,parts_used_grouped, on=\"SAPMATNR\")\n",
    "merged = merged.drop_duplicates(subset='SAPMATNR')"
   ]
  },
  {
   "cell_type": "code",
   "execution_count": null,
   "metadata": {},
   "outputs": [
    {
     "ename": "NameError",
     "evalue": "name 'merged' is not defined",
     "output_type": "error",
     "traceback": [
      "\u001b[1;31m---------------------------------------------------------------------------\u001b[0m",
      "\u001b[1;31mNameError\u001b[0m                                 Traceback (most recent call last)",
      "Cell \u001b[1;32mIn[1], line 1\u001b[0m\n\u001b[1;32m----> 1\u001b[0m \u001b[43mmerged\u001b[49m\u001b[38;5;241m.\u001b[39mto_parquet(\u001b[38;5;124m'\u001b[39m\u001b[38;5;124m../../cache/cable_probes_parts_used_count.parquet\u001b[39m\u001b[38;5;124m'\u001b[39m)\n",
      "\u001b[1;31mNameError\u001b[0m: name 'merged' is not defined"
     ]
    }
   ],
   "source": [
    "merged.to_parquet('../../cache/cable_probes_parts_used_count.parquet')"
   ]
  },
  {
   "cell_type": "code",
   "execution_count": null,
   "metadata": {},
   "outputs": [
    {
     "data": {
      "text/plain": [
       "488"
      ]
     },
     "execution_count": 41,
     "metadata": {},
     "output_type": "execute_result"
    }
   ],
   "source": [
    "len(merged[merged['Count']<=5])"
   ]
  },
  {
   "cell_type": "code",
   "execution_count": null,
   "metadata": {},
   "outputs": [
    {
     "data": {
      "text/html": [
       "<div>\n",
       "<style scoped>\n",
       "    .dataframe tbody tr th:only-of-type {\n",
       "        vertical-align: middle;\n",
       "    }\n",
       "\n",
       "    .dataframe tbody tr th {\n",
       "        vertical-align: top;\n",
       "    }\n",
       "\n",
       "    .dataframe thead th {\n",
       "        text-align: right;\n",
       "    }\n",
       "</style>\n",
       "<table border=\"1\" class=\"dataframe\">\n",
       "  <thead>\n",
       "    <tr style=\"text-align: right;\">\n",
       "      <th></th>\n",
       "      <th>@odata.type</th>\n",
       "      <th>@odata.id</th>\n",
       "      <th>CreatedOn@odata.type</th>\n",
       "      <th>CreatedOn</th>\n",
       "      <th>ID</th>\n",
       "      <th>LastModified@odata.type</th>\n",
       "      <th>LastModified</th>\n",
       "      <th>AlternateNumber</th>\n",
       "      <th>AssemblyMode</th>\n",
       "      <th>BENENNUNG</th>\n",
       "      <th>...</th>\n",
       "      <th>Supersedes</th>\n",
       "      <th>TypeIcon</th>\n",
       "      <th>Version</th>\n",
       "      <th>VersionID</th>\n",
       "      <th>View</th>\n",
       "      <th>WorkInProgressState</th>\n",
       "      <th>@Core.Links</th>\n",
       "      <th>CabinetName@PTC.AccessException</th>\n",
       "      <th>LifeCycleTemplateName@PTC.AccessException</th>\n",
       "      <th>Count</th>\n",
       "    </tr>\n",
       "  </thead>\n",
       "  <tbody>\n",
       "    <tr>\n",
       "      <th>0</th>\n",
       "      <td>#PTC.ProdMgmt.Part</td>\n",
       "      <td>https://windchill.cds.testo/Windchill/servlet/...</td>\n",
       "      <td>#DateTimeOffset</td>\n",
       "      <td>2021-02-11T08:15:33+01:00</td>\n",
       "      <td>OR:wt.part.WTPart:168261607</td>\n",
       "      <td>#DateTimeOffset</td>\n",
       "      <td>2023-09-26T13:29:38+02:00</td>\n",
       "      <td>None</td>\n",
       "      <td>{'@odata.type': '#PTC.EnumType', 'Display': 'C...</td>\n",
       "      <td>Stecker</td>\n",
       "      <td>...</td>\n",
       "      <td>None</td>\n",
       "      <td>{'@odata.type': '#PTC.Icon', 'Path': 'https://...</td>\n",
       "      <td>-.7 (Design)</td>\n",
       "      <td>VR:wt.part.WTPart:116059222</td>\n",
       "      <td>Design</td>\n",
       "      <td>{'@odata.type': '#PTC.WorkInProgressType', 'Di...</td>\n",
       "      <td>[{'href': 'https://windchill.cds.testo/Windchi...</td>\n",
       "      <td>None</td>\n",
       "      <td>None</td>\n",
       "      <td>1</td>\n",
       "    </tr>\n",
       "    <tr>\n",
       "      <th>1</th>\n",
       "      <td>#PTC.ProdMgmt.Part</td>\n",
       "      <td>https://windchill.cds.testo/Windchill/servlet/...</td>\n",
       "      <td>#DateTimeOffset</td>\n",
       "      <td>2017-12-06T16:39:17+01:00</td>\n",
       "      <td>OR:wt.part.WTPart:180930473</td>\n",
       "      <td>#DateTimeOffset</td>\n",
       "      <td>2024-04-08T11:14:20+02:00</td>\n",
       "      <td>None</td>\n",
       "      <td>{'@odata.type': '#PTC.EnumType', 'Display': 'C...</td>\n",
       "      <td>Spliceband</td>\n",
       "      <td>...</td>\n",
       "      <td>None</td>\n",
       "      <td>{'@odata.type': '#PTC.Icon', 'Path': 'https://...</td>\n",
       "      <td>f.6 (Design)</td>\n",
       "      <td>VR:wt.part.WTPart:73843386</td>\n",
       "      <td>Design</td>\n",
       "      <td>{'@odata.type': '#PTC.WorkInProgressType', 'Di...</td>\n",
       "      <td>[{'href': 'https://windchill.cds.testo/Windchi...</td>\n",
       "      <td>None</td>\n",
       "      <td>None</td>\n",
       "      <td>320</td>\n",
       "    </tr>\n",
       "    <tr>\n",
       "      <th>2</th>\n",
       "      <td>#PTC.ProdMgmt.Part</td>\n",
       "      <td>https://windchill.cds.testo/Windchill/servlet/...</td>\n",
       "      <td>#DateTimeOffset</td>\n",
       "      <td>2020-12-08T10:57:20+01:00</td>\n",
       "      <td>OR:wt.part.WTPart:175364320</td>\n",
       "      <td>#DateTimeOffset</td>\n",
       "      <td>2024-01-31T12:12:35+01:00</td>\n",
       "      <td>None</td>\n",
       "      <td>{'@odata.type': '#PTC.EnumType', 'Display': 'C...</td>\n",
       "      <td>Schrumpfschlauch L=10</td>\n",
       "      <td>...</td>\n",
       "      <td>None</td>\n",
       "      <td>{'@odata.type': '#PTC.Icon', 'Path': 'https://...</td>\n",
       "      <td>e.14 (Design)</td>\n",
       "      <td>VR:wt.part.WTPart:113139312</td>\n",
       "      <td>Design</td>\n",
       "      <td>{'@odata.type': '#PTC.WorkInProgressType', 'Di...</td>\n",
       "      <td>[{'href': 'https://windchill.cds.testo/Windchi...</td>\n",
       "      <td>None</td>\n",
       "      <td>None</td>\n",
       "      <td>84</td>\n",
       "    </tr>\n",
       "    <tr>\n",
       "      <th>3</th>\n",
       "      <td>#PTC.ProdMgmt.Part</td>\n",
       "      <td>https://windchill.cds.testo/Windchill/servlet/...</td>\n",
       "      <td>#DateTimeOffset</td>\n",
       "      <td>2021-04-08T06:36:32+02:00</td>\n",
       "      <td>OR:wt.part.WTPart:170027013</td>\n",
       "      <td>#DateTimeOffset</td>\n",
       "      <td>2023-10-20T14:01:17+02:00</td>\n",
       "      <td>None</td>\n",
       "      <td>{'@odata.type': '#PTC.EnumType', 'Display': 'C...</td>\n",
       "      <td>Huelse</td>\n",
       "      <td>...</td>\n",
       "      <td>None</td>\n",
       "      <td>{'@odata.type': '#PTC.Icon', 'Path': 'https://...</td>\n",
       "      <td>b.5 (Design)</td>\n",
       "      <td>VR:wt.part.WTPart:118136538</td>\n",
       "      <td>Design</td>\n",
       "      <td>{'@odata.type': '#PTC.WorkInProgressType', 'Di...</td>\n",
       "      <td>[{'href': 'https://windchill.cds.testo/Windchi...</td>\n",
       "      <td>None</td>\n",
       "      <td>None</td>\n",
       "      <td>22</td>\n",
       "    </tr>\n",
       "    <tr>\n",
       "      <th>4</th>\n",
       "      <td>#PTC.ProdMgmt.Part</td>\n",
       "      <td>https://windchill.cds.testo/Windchill/servlet/...</td>\n",
       "      <td>#DateTimeOffset</td>\n",
       "      <td>2023-05-02T08:42:51+02:00</td>\n",
       "      <td>OR:wt.part.WTPart:166213667</td>\n",
       "      <td>#DateTimeOffset</td>\n",
       "      <td>2023-08-22T09:38:42+02:00</td>\n",
       "      <td>None</td>\n",
       "      <td>{'@odata.type': '#PTC.EnumType', 'Display': 'C...</td>\n",
       "      <td>Leitung</td>\n",
       "      <td>...</td>\n",
       "      <td>None</td>\n",
       "      <td>{'@odata.type': '#PTC.Icon', 'Path': 'https://...</td>\n",
       "      <td>b.3 (Design)</td>\n",
       "      <td>VR:wt.part.WTPart:158667008</td>\n",
       "      <td>Design</td>\n",
       "      <td>{'@odata.type': '#PTC.WorkInProgressType', 'Di...</td>\n",
       "      <td>[{'href': 'https://windchill.cds.testo/Windchi...</td>\n",
       "      <td>None</td>\n",
       "      <td>None</td>\n",
       "      <td>26</td>\n",
       "    </tr>\n",
       "    <tr>\n",
       "      <th>...</th>\n",
       "      <td>...</td>\n",
       "      <td>...</td>\n",
       "      <td>...</td>\n",
       "      <td>...</td>\n",
       "      <td>...</td>\n",
       "      <td>...</td>\n",
       "      <td>...</td>\n",
       "      <td>...</td>\n",
       "      <td>...</td>\n",
       "      <td>...</td>\n",
       "      <td>...</td>\n",
       "      <td>...</td>\n",
       "      <td>...</td>\n",
       "      <td>...</td>\n",
       "      <td>...</td>\n",
       "      <td>...</td>\n",
       "      <td>...</td>\n",
       "      <td>...</td>\n",
       "      <td>...</td>\n",
       "      <td>...</td>\n",
       "      <td>...</td>\n",
       "    </tr>\n",
       "    <tr>\n",
       "      <th>2859</th>\n",
       "      <td>#PTC.ProdMgmt.Part</td>\n",
       "      <td>https://windchill.cds.testo/Windchill/servlet/...</td>\n",
       "      <td>#DateTimeOffset</td>\n",
       "      <td>2022-01-10T11:35:44+01:00</td>\n",
       "      <td>OR:wt.part.WTPart:132290886</td>\n",
       "      <td>#DateTimeOffset</td>\n",
       "      <td>2022-03-03T11:21:02+01:00</td>\n",
       "      <td>None</td>\n",
       "      <td>{'@odata.type': '#PTC.EnumType', 'Display': 'S...</td>\n",
       "      <td>Kabelbaugruppe 0230 5013</td>\n",
       "      <td>...</td>\n",
       "      <td>None</td>\n",
       "      <td>{'@odata.type': '#PTC.Icon', 'Path': 'https://...</td>\n",
       "      <td>y.2 (Design)</td>\n",
       "      <td>VR:wt.part.WTPart:129574155</td>\n",
       "      <td>Design</td>\n",
       "      <td>{'@odata.type': '#PTC.WorkInProgressType', 'Di...</td>\n",
       "      <td>[{'href': 'https://windchill.cds.testo/Windchi...</td>\n",
       "      <td>None</td>\n",
       "      <td>None</td>\n",
       "      <td>1</td>\n",
       "    </tr>\n",
       "    <tr>\n",
       "      <th>2865</th>\n",
       "      <td>#PTC.ProdMgmt.Part</td>\n",
       "      <td>https://windchill.cds.testo/Windchill/servlet/...</td>\n",
       "      <td>#DateTimeOffset</td>\n",
       "      <td>2015-02-17T13:22:13+01:00</td>\n",
       "      <td>OR:wt.part.WTPart:175593897</td>\n",
       "      <td>#DateTimeOffset</td>\n",
       "      <td>2024-02-01T12:41:50+01:00</td>\n",
       "      <td>None</td>\n",
       "      <td>{'@odata.type': '#PTC.EnumType', 'Display': 'S...</td>\n",
       "      <td>Keramikrohr</td>\n",
       "      <td>...</td>\n",
       "      <td>None</td>\n",
       "      <td>{'@odata.type': '#PTC.Icon', 'Path': 'https://...</td>\n",
       "      <td>b.5</td>\n",
       "      <td>VR:wt.part.WTPart:44041946</td>\n",
       "      <td></td>\n",
       "      <td>{'@odata.type': '#PTC.WorkInProgressType', 'Di...</td>\n",
       "      <td>[{'href': 'https://windchill.cds.testo/Windchi...</td>\n",
       "      <td>None</td>\n",
       "      <td>None</td>\n",
       "      <td>1</td>\n",
       "    </tr>\n",
       "    <tr>\n",
       "      <th>2872</th>\n",
       "      <td>#PTC.ProdMgmt.Part</td>\n",
       "      <td>https://windchill.cds.testo/Windchill/servlet/...</td>\n",
       "      <td>#DateTimeOffset</td>\n",
       "      <td>2013-06-12T09:34:16+02:00</td>\n",
       "      <td>OR:wt.part.WTPart:149441815</td>\n",
       "      <td>#DateTimeOffset</td>\n",
       "      <td>2022-12-14T12:39:00+01:00</td>\n",
       "      <td>None</td>\n",
       "      <td>{'@odata.type': '#PTC.EnumType', 'Display': 'S...</td>\n",
       "      <td>Pt 100 Fühler (2,0m)</td>\n",
       "      <td>...</td>\n",
       "      <td>None</td>\n",
       "      <td>{'@odata.type': '#PTC.Icon', 'Path': 'https://...</td>\n",
       "      <td>a.11</td>\n",
       "      <td>VR:wt.part.WTPart:24728368</td>\n",
       "      <td></td>\n",
       "      <td>{'@odata.type': '#PTC.WorkInProgressType', 'Di...</td>\n",
       "      <td>[{'href': 'https://windchill.cds.testo/Windchi...</td>\n",
       "      <td>None</td>\n",
       "      <td>None</td>\n",
       "      <td>1</td>\n",
       "    </tr>\n",
       "    <tr>\n",
       "      <th>2874</th>\n",
       "      <td>#PTC.ProdMgmt.Part</td>\n",
       "      <td>https://windchill.cds.testo/Windchill/servlet/...</td>\n",
       "      <td>#DateTimeOffset</td>\n",
       "      <td>2022-07-01T11:41:09+02:00</td>\n",
       "      <td>OR:wt.part.WTPart:169770362</td>\n",
       "      <td>#DateTimeOffset</td>\n",
       "      <td>2023-10-17T15:54:43+02:00</td>\n",
       "      <td>None</td>\n",
       "      <td>{'@odata.type': '#PTC.EnumType', 'Display': 'C...</td>\n",
       "      <td>Litze</td>\n",
       "      <td>...</td>\n",
       "      <td>None</td>\n",
       "      <td>{'@odata.type': '#PTC.Icon', 'Path': 'https://...</td>\n",
       "      <td>f.6 (Design)</td>\n",
       "      <td>VR:wt.part.WTPart:138915315</td>\n",
       "      <td>Design</td>\n",
       "      <td>{'@odata.type': '#PTC.WorkInProgressType', 'Di...</td>\n",
       "      <td>[{'href': 'https://windchill.cds.testo/Windchi...</td>\n",
       "      <td>None</td>\n",
       "      <td>None</td>\n",
       "      <td>1</td>\n",
       "    </tr>\n",
       "    <tr>\n",
       "      <th>2875</th>\n",
       "      <td>#PTC.ProdMgmt.Part</td>\n",
       "      <td>https://windchill.cds.testo/Windchill/servlet/...</td>\n",
       "      <td>#DateTimeOffset</td>\n",
       "      <td>2018-04-24T14:32:53+02:00</td>\n",
       "      <td>OR:wt.part.WTPart:78177249</td>\n",
       "      <td>#DateTimeOffset</td>\n",
       "      <td>2018-04-26T09:11:40+02:00</td>\n",
       "      <td>None</td>\n",
       "      <td>{'@odata.type': '#PTC.EnumType', 'Display': 'S...</td>\n",
       "      <td>Leitungsbaugruppe</td>\n",
       "      <td>...</td>\n",
       "      <td>None</td>\n",
       "      <td>{'@odata.type': '#PTC.Icon', 'Path': 'https://...</td>\n",
       "      <td>i.3</td>\n",
       "      <td>VR:wt.part.WTPart:78085720</td>\n",
       "      <td></td>\n",
       "      <td>{'@odata.type': '#PTC.WorkInProgressType', 'Di...</td>\n",
       "      <td>[{'href': 'https://windchill.cds.testo/Windchi...</td>\n",
       "      <td>None</td>\n",
       "      <td>None</td>\n",
       "      <td>1</td>\n",
       "    </tr>\n",
       "  </tbody>\n",
       "</table>\n",
       "<p>560 rows × 59 columns</p>\n",
       "</div>"
      ],
      "text/plain": [
       "             @odata.type                                          @odata.id  \\\n",
       "0     #PTC.ProdMgmt.Part  https://windchill.cds.testo/Windchill/servlet/...   \n",
       "1     #PTC.ProdMgmt.Part  https://windchill.cds.testo/Windchill/servlet/...   \n",
       "2     #PTC.ProdMgmt.Part  https://windchill.cds.testo/Windchill/servlet/...   \n",
       "3     #PTC.ProdMgmt.Part  https://windchill.cds.testo/Windchill/servlet/...   \n",
       "4     #PTC.ProdMgmt.Part  https://windchill.cds.testo/Windchill/servlet/...   \n",
       "...                  ...                                                ...   \n",
       "2859  #PTC.ProdMgmt.Part  https://windchill.cds.testo/Windchill/servlet/...   \n",
       "2865  #PTC.ProdMgmt.Part  https://windchill.cds.testo/Windchill/servlet/...   \n",
       "2872  #PTC.ProdMgmt.Part  https://windchill.cds.testo/Windchill/servlet/...   \n",
       "2874  #PTC.ProdMgmt.Part  https://windchill.cds.testo/Windchill/servlet/...   \n",
       "2875  #PTC.ProdMgmt.Part  https://windchill.cds.testo/Windchill/servlet/...   \n",
       "\n",
       "     CreatedOn@odata.type                  CreatedOn  \\\n",
       "0         #DateTimeOffset  2021-02-11T08:15:33+01:00   \n",
       "1         #DateTimeOffset  2017-12-06T16:39:17+01:00   \n",
       "2         #DateTimeOffset  2020-12-08T10:57:20+01:00   \n",
       "3         #DateTimeOffset  2021-04-08T06:36:32+02:00   \n",
       "4         #DateTimeOffset  2023-05-02T08:42:51+02:00   \n",
       "...                   ...                        ...   \n",
       "2859      #DateTimeOffset  2022-01-10T11:35:44+01:00   \n",
       "2865      #DateTimeOffset  2015-02-17T13:22:13+01:00   \n",
       "2872      #DateTimeOffset  2013-06-12T09:34:16+02:00   \n",
       "2874      #DateTimeOffset  2022-07-01T11:41:09+02:00   \n",
       "2875      #DateTimeOffset  2018-04-24T14:32:53+02:00   \n",
       "\n",
       "                               ID LastModified@odata.type  \\\n",
       "0     OR:wt.part.WTPart:168261607         #DateTimeOffset   \n",
       "1     OR:wt.part.WTPart:180930473         #DateTimeOffset   \n",
       "2     OR:wt.part.WTPart:175364320         #DateTimeOffset   \n",
       "3     OR:wt.part.WTPart:170027013         #DateTimeOffset   \n",
       "4     OR:wt.part.WTPart:166213667         #DateTimeOffset   \n",
       "...                           ...                     ...   \n",
       "2859  OR:wt.part.WTPart:132290886         #DateTimeOffset   \n",
       "2865  OR:wt.part.WTPart:175593897         #DateTimeOffset   \n",
       "2872  OR:wt.part.WTPart:149441815         #DateTimeOffset   \n",
       "2874  OR:wt.part.WTPart:169770362         #DateTimeOffset   \n",
       "2875   OR:wt.part.WTPart:78177249         #DateTimeOffset   \n",
       "\n",
       "                   LastModified AlternateNumber  \\\n",
       "0     2023-09-26T13:29:38+02:00            None   \n",
       "1     2024-04-08T11:14:20+02:00            None   \n",
       "2     2024-01-31T12:12:35+01:00            None   \n",
       "3     2023-10-20T14:01:17+02:00            None   \n",
       "4     2023-08-22T09:38:42+02:00            None   \n",
       "...                         ...             ...   \n",
       "2859  2022-03-03T11:21:02+01:00            None   \n",
       "2865  2024-02-01T12:41:50+01:00            None   \n",
       "2872  2022-12-14T12:39:00+01:00            None   \n",
       "2874  2023-10-17T15:54:43+02:00            None   \n",
       "2875  2018-04-26T09:11:40+02:00            None   \n",
       "\n",
       "                                           AssemblyMode  \\\n",
       "0     {'@odata.type': '#PTC.EnumType', 'Display': 'C...   \n",
       "1     {'@odata.type': '#PTC.EnumType', 'Display': 'C...   \n",
       "2     {'@odata.type': '#PTC.EnumType', 'Display': 'C...   \n",
       "3     {'@odata.type': '#PTC.EnumType', 'Display': 'C...   \n",
       "4     {'@odata.type': '#PTC.EnumType', 'Display': 'C...   \n",
       "...                                                 ...   \n",
       "2859  {'@odata.type': '#PTC.EnumType', 'Display': 'S...   \n",
       "2865  {'@odata.type': '#PTC.EnumType', 'Display': 'S...   \n",
       "2872  {'@odata.type': '#PTC.EnumType', 'Display': 'S...   \n",
       "2874  {'@odata.type': '#PTC.EnumType', 'Display': 'C...   \n",
       "2875  {'@odata.type': '#PTC.EnumType', 'Display': 'S...   \n",
       "\n",
       "                     BENENNUNG  ... Supersedes  \\\n",
       "0                     Stecker   ...       None   \n",
       "1                   Spliceband  ...       None   \n",
       "2        Schrumpfschlauch L=10  ...       None   \n",
       "3                       Huelse  ...       None   \n",
       "4                      Leitung  ...       None   \n",
       "...                        ...  ...        ...   \n",
       "2859  Kabelbaugruppe 0230 5013  ...       None   \n",
       "2865               Keramikrohr  ...       None   \n",
       "2872      Pt 100 Fühler (2,0m)  ...       None   \n",
       "2874                     Litze  ...       None   \n",
       "2875         Leitungsbaugruppe  ...       None   \n",
       "\n",
       "                                               TypeIcon        Version  \\\n",
       "0     {'@odata.type': '#PTC.Icon', 'Path': 'https://...   -.7 (Design)   \n",
       "1     {'@odata.type': '#PTC.Icon', 'Path': 'https://...   f.6 (Design)   \n",
       "2     {'@odata.type': '#PTC.Icon', 'Path': 'https://...  e.14 (Design)   \n",
       "3     {'@odata.type': '#PTC.Icon', 'Path': 'https://...   b.5 (Design)   \n",
       "4     {'@odata.type': '#PTC.Icon', 'Path': 'https://...   b.3 (Design)   \n",
       "...                                                 ...            ...   \n",
       "2859  {'@odata.type': '#PTC.Icon', 'Path': 'https://...   y.2 (Design)   \n",
       "2865  {'@odata.type': '#PTC.Icon', 'Path': 'https://...            b.5   \n",
       "2872  {'@odata.type': '#PTC.Icon', 'Path': 'https://...           a.11   \n",
       "2874  {'@odata.type': '#PTC.Icon', 'Path': 'https://...   f.6 (Design)   \n",
       "2875  {'@odata.type': '#PTC.Icon', 'Path': 'https://...            i.3   \n",
       "\n",
       "                        VersionID    View  \\\n",
       "0     VR:wt.part.WTPart:116059222  Design   \n",
       "1      VR:wt.part.WTPart:73843386  Design   \n",
       "2     VR:wt.part.WTPart:113139312  Design   \n",
       "3     VR:wt.part.WTPart:118136538  Design   \n",
       "4     VR:wt.part.WTPart:158667008  Design   \n",
       "...                           ...     ...   \n",
       "2859  VR:wt.part.WTPart:129574155  Design   \n",
       "2865   VR:wt.part.WTPart:44041946           \n",
       "2872   VR:wt.part.WTPart:24728368           \n",
       "2874  VR:wt.part.WTPart:138915315  Design   \n",
       "2875   VR:wt.part.WTPart:78085720           \n",
       "\n",
       "                                    WorkInProgressState  \\\n",
       "0     {'@odata.type': '#PTC.WorkInProgressType', 'Di...   \n",
       "1     {'@odata.type': '#PTC.WorkInProgressType', 'Di...   \n",
       "2     {'@odata.type': '#PTC.WorkInProgressType', 'Di...   \n",
       "3     {'@odata.type': '#PTC.WorkInProgressType', 'Di...   \n",
       "4     {'@odata.type': '#PTC.WorkInProgressType', 'Di...   \n",
       "...                                                 ...   \n",
       "2859  {'@odata.type': '#PTC.WorkInProgressType', 'Di...   \n",
       "2865  {'@odata.type': '#PTC.WorkInProgressType', 'Di...   \n",
       "2872  {'@odata.type': '#PTC.WorkInProgressType', 'Di...   \n",
       "2874  {'@odata.type': '#PTC.WorkInProgressType', 'Di...   \n",
       "2875  {'@odata.type': '#PTC.WorkInProgressType', 'Di...   \n",
       "\n",
       "                                            @Core.Links  \\\n",
       "0     [{'href': 'https://windchill.cds.testo/Windchi...   \n",
       "1     [{'href': 'https://windchill.cds.testo/Windchi...   \n",
       "2     [{'href': 'https://windchill.cds.testo/Windchi...   \n",
       "3     [{'href': 'https://windchill.cds.testo/Windchi...   \n",
       "4     [{'href': 'https://windchill.cds.testo/Windchi...   \n",
       "...                                                 ...   \n",
       "2859  [{'href': 'https://windchill.cds.testo/Windchi...   \n",
       "2865  [{'href': 'https://windchill.cds.testo/Windchi...   \n",
       "2872  [{'href': 'https://windchill.cds.testo/Windchi...   \n",
       "2874  [{'href': 'https://windchill.cds.testo/Windchi...   \n",
       "2875  [{'href': 'https://windchill.cds.testo/Windchi...   \n",
       "\n",
       "     CabinetName@PTC.AccessException  \\\n",
       "0                               None   \n",
       "1                               None   \n",
       "2                               None   \n",
       "3                               None   \n",
       "4                               None   \n",
       "...                              ...   \n",
       "2859                            None   \n",
       "2865                            None   \n",
       "2872                            None   \n",
       "2874                            None   \n",
       "2875                            None   \n",
       "\n",
       "     LifeCycleTemplateName@PTC.AccessException Count  \n",
       "0                                         None     1  \n",
       "1                                         None   320  \n",
       "2                                         None    84  \n",
       "3                                         None    22  \n",
       "4                                         None    26  \n",
       "...                                        ...   ...  \n",
       "2859                                      None     1  \n",
       "2865                                      None     1  \n",
       "2872                                      None     1  \n",
       "2874                                      None     1  \n",
       "2875                                      None     1  \n",
       "\n",
       "[560 rows x 59 columns]"
      ]
     },
     "execution_count": 38,
     "metadata": {},
     "output_type": "execute_result"
    }
   ],
   "source": [
    "merged"
   ]
  },
  {
   "cell_type": "markdown",
   "metadata": {},
   "source": [
    "<h2>Show the distribution of Parts</h2>\n",
    "Here I want to display the distibution of usage of the different Parts."
   ]
  },
  {
   "cell_type": "code",
   "execution_count": null,
   "metadata": {},
   "outputs": [
    {
     "name": "stdout",
     "output_type": "stream",
     "text": [
      "just ran step start_pipeline shape=(560, 59) took 0:00:00s\n",
      "just ran step group_by_and_count shape=(37,) took 0:00:00.000398s\n"
     ]
    }
   ],
   "source": [
    "parts_used_grouped_counted = (merged.pipe(php.start_pipeline)\n",
    "    .pipe(php.group_by_and_count, column_name=\"Count\"))\n",
    "parts_used_grouped_counted.name = 'Count distribution'\n",
    "##not necessary anymore due to usage of histogramm"
   ]
  },
  {
   "cell_type": "code",
   "execution_count": 1,
   "metadata": {},
   "outputs": [],
   "source": [
    "import matplotlib.pyplot as plt\n",
    "import pandas as pd\n",
    "\n",
    "merged = pd.read_parquet('../../cache/cable_probes_parts_used_count.parquet')"
   ]
  },
  {
   "cell_type": "code",
   "execution_count": 2,
   "metadata": {},
   "outputs": [
    {
     "data": {
      "text/plain": [
       "Text(0, 0.5, 'Anzahl Bauteile')"
      ]
     },
     "execution_count": 2,
     "metadata": {},
     "output_type": "execute_result"
    },
    {
     "data": {
      "image/png": "[encoded data removed]",
      "text/plain": [
       "<Figure size 640x480 with 1 Axes>"
      ]
     },
     "metadata": {},
     "output_type": "display_data"
    }
   ],
   "source": [
    "fig = plt.figure()\n",
    "ax = fig.add_subplot()\n",
    "ax.hist(merged['Count'], bins=160, log=True)\n",
    "ax.set_xlabel(\"Anzahl Verwendungen\")\n",
    "ax.set_ylabel(\"Anzahl Bauteile\")"
   ]
  },
  {
   "cell_type": "code",
   "execution_count": null,
   "metadata": {},
   "outputs": [],
   "source": [
    "merged.to_csv('../../res/results/cableprobes_counted_parts.csv')"
   ]
  }
 ],
 "metadata": {
  "kernelspec": {
   "display_name": "py_venv",
   "language": "python",
   "name": "python3"
  },
  "language_info": {
   "codemirror_mode": {
    "name": "ipython",
    "version": 3
   },
   "file_extension": ".py",
   "mimetype": "text/x-python",
   "name": "python",
   "nbconvert_exporter": "python",
   "pygments_lexer": "ipython3",
   "version": "3.12.4"
  }
 },
 "nbformat": 4,
 "nbformat_minor": 2
}
