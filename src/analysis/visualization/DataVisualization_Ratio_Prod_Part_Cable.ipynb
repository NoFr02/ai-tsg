{
 "cells": [
  {
   "cell_type": "markdown",
   "metadata": {},
   "source": [
    "<h1>Data Visualization - Prod/Part Cable</h1>\n",
    "\n",
    "This books goal is to show the ratio of cables used in the cableprobes. "
   ]
  },
  {
   "cell_type": "code",
   "execution_count": 1,
   "metadata": {},
   "outputs": [],
   "source": [
    "import json\n",
    "import pandas as pd\n",
    "import helpers.pipe_helpers as php\n",
    "import helpers.api_helpers as ahp\n",
    "import numpy as np"
   ]
  },
  {
   "cell_type": "markdown",
   "metadata": {},
   "source": [
    "First I try to get every product in a specific Classification-Node (CableProbes)."
   ]
  },
  {
   "cell_type": "code",
   "execution_count": null,
   "metadata": {},
   "outputs": [],
   "source": [
    "cable_probes = pd.DataFrame()\n",
    "pointer = 0\n",
    "\n",
    "while True:\n",
    "    data = ahp.read_from_windchill_per_node(\"TSGCableProbes\",pointer)\n",
    "    json_data = json.loads(data)\n",
    "    json_data_value = pd.DataFrame(json_data['value'])   \n",
    "    cable_probes = pd.concat([cable_probes, json_data_value], ignore_index=True)\n",
    "    \n",
    "    if '@odata.nextLink' not in json_data:\n",
    "        break\n",
    "    \n",
    "    pointer = json_data['@odata.nextLink'].split('=')[1]"
   ]
  },
  {
   "cell_type": "markdown",
   "metadata": {},
   "source": [
    "In the next step I am search for unique Names. Thats used to get the part-data from windchill for every unique cableprobe."
   ]
  },
  {
   "cell_type": "code",
   "execution_count": null,
   "metadata": {},
   "outputs": [
    {
     "name": "stdout",
     "output_type": "stream",
     "text": [
      "<class 'pandas.core.frame.DataFrame'>\n",
      "RangeIndex: 1228 entries, 0 to 1227\n",
      "Data columns (total 4 columns):\n",
      " #   Column                            Non-Null Count  Dtype \n",
      "---  ------                            --------------  ----- \n",
      " 0   ID                                1228 non-null   object\n",
      " 1   Name                              1228 non-null   object\n",
      " 2   ClfBindingAttributeAndNodeValues  1228 non-null   object\n",
      " 3   ClassificationAttributes          1228 non-null   object\n",
      "dtypes: object(4)\n",
      "memory usage: 38.5+ KB\n"
     ]
    }
   ],
   "source": [
    "cable_probes.to_parquet('../../cache/cable_probes_from_db.parquet')"
   ]
  },
  {
   "cell_type": "code",
   "execution_count": null,
   "metadata": {},
   "outputs": [],
   "source": [
    "unique_cable = cable_probes['Name'].unique()"
   ]
  },
  {
   "cell_type": "code",
   "execution_count": null,
   "metadata": {},
   "outputs": [],
   "source": [
    "pd.DataFrame(unique_cable).to_parquet('../../cache/cable_probes_names_unique_db.parquet')"
   ]
  },
  {
   "cell_type": "code",
   "execution_count": 3,
   "metadata": {},
   "outputs": [
    {
     "name": "stdout",
     "output_type": "stream",
     "text": [
      "<class 'pandas.core.frame.DataFrame'>\n",
      "RangeIndex: 405 entries, 0 to 404\n",
      "Data columns (total 1 columns):\n",
      " #   Column  Non-Null Count  Dtype \n",
      "---  ------  --------------  ----- \n",
      " 0   0       405 non-null    object\n",
      "dtypes: object(1)\n",
      "memory usage: 3.3+ KB\n"
     ]
    }
   ],
   "source": [
    "pd.read_parquet('../../cache/cable_probes_names_unique_db.parquet').info()"
   ]
  },
  {
   "cell_type": "code",
   "execution_count": null,
   "metadata": {},
   "outputs": [],
   "source": [
    "cable_probes_values = pd.DataFrame()\n",
    "counter = 0\n",
    "for name in unique_cable:\n",
    "    counter +=1\n",
    "    data = ahp.read_from_windchill_per_name(name)\n",
    "    print(data)\n",
    "    json_data = json.loads(data)\n",
    "    json_data_value = pd.DataFrame(json_data['value'])   \n",
    "    cable_probes_values = pd.concat([cable_probes_values, json_data_value], ignore_index=True)\n",
    "    "
   ]
  },
  {
   "cell_type": "code",
   "execution_count": null,
   "metadata": {},
   "outputs": [],
   "source": [
    "cable_probes_values.to_parquet('../../cache/cable_probes_values_from_db.parquet')"
   ]
  },
  {
   "cell_type": "code",
   "execution_count": 8,
   "metadata": {},
   "outputs": [],
   "source": [
    "#cable_probes_values = pd.read_parquet('../../cache/TSGCableProbes_values_from_db.parquet')"
   ]
  },
  {
   "cell_type": "markdown",
   "metadata": {},
   "source": [
    "Then I use this data to recieve the specs of the parts which are used in the cableprobe. Therefor I search for the used parts."
   ]
  },
  {
   "cell_type": "code",
   "execution_count": null,
   "metadata": {},
   "outputs": [],
   "source": [
    "parts_used_list = []\n",
    "for id in cable_probes_values['ID']:\n",
    "    data = ahp.read_use_from_windchill_per_oid(id)\n",
    "    #print(data)\n",
    "    json_data = json.loads(data)\n",
    "    for item in json_data['value']:\n",
    "        values= item['Part']\n",
    "        df = pd.DataFrame([values])\n",
    "        parts_used_list.append(df)\n",
    "parts_used = pd.concat(parts_used_list, ignore_index=True)"
   ]
  },
  {
   "cell_type": "code",
   "execution_count": null,
   "metadata": {},
   "outputs": [],
   "source": [
    "parts_used.to_parquet('../../res/results/cache/cable_probes_parts_uses_from_db.parquet')"
   ]
  },
  {
   "cell_type": "markdown",
   "metadata": {},
   "source": [
    "In the last step I count the different parts to show the usage of different parts."
   ]
  },
  {
   "cell_type": "code",
   "execution_count": null,
   "metadata": {},
   "outputs": [],
   "source": [
    "parts_used = pd.read_parquet('../../cache/cable_probes_parts_uses_from_db.parquet')"
   ]
  },
  {
   "cell_type": "code",
   "execution_count": null,
   "metadata": {},
   "outputs": [],
   "source": [
    "parts_used = parts_used[~parts_used[\"ID\"].isin(cable_probes_values['ID'])]"
   ]
  },
  {
   "cell_type": "code",
   "execution_count": null,
   "metadata": {},
   "outputs": [
    {
     "name": "stdout",
     "output_type": "stream",
     "text": [
      "just ran step start_pipeline shape=(2880, 58) took 0:00:00.001956s\n",
      "just ran step group_by_and_count shape=(560,) took 0:00:00.001586s\n"
     ]
    }
   ],
   "source": [
    "parts_used_grouped = (parts_used.pipe(php.start_pipeline)\n",
    "    .pipe(php.group_by_and_count, column_name=\"SAPMATNR\"))\n",
    "parts_used_grouped.name = 'Count'"
   ]
  },
  {
   "cell_type": "code",
   "execution_count": null,
   "metadata": {},
   "outputs": [],
   "source": [
    "pd.DataFrame(parts_used_grouped).to_parquet('../../cache/cable_probes_parts_used_grouped_from_db.parquet')"
   ]
  },
  {
   "cell_type": "code",
   "execution_count": null,
   "metadata": {},
   "outputs": [],
   "source": [
    "merged = pd.merge(parts_used,parts_used_grouped, on=\"SAPMATNR\")\n",
    "merged = merged.drop_duplicates(subset='SAPMATNR')"
   ]
  },
  {
   "cell_type": "code",
   "execution_count": null,
   "metadata": {},
   "outputs": [],
   "source": [
    "merged.to_parquet('../../cache/cable_probes_parts_used_count.parquet')"
   ]
  },
  {
   "cell_type": "code",
   "execution_count": null,
   "metadata": {},
   "outputs": [
    {
     "data": {
      "text/plain": [
       "488"
      ]
     },
     "execution_count": 41,
     "metadata": {},
     "output_type": "execute_result"
    }
   ],
   "source": [
    "len(merged[merged['Count']<=5])"
   ]
  },
  {
   "cell_type": "code",
   "execution_count": null,
   "metadata": {},
   "outputs": [],
   "source": [
    "merged"
   ]
  },
  {
   "cell_type": "markdown",
   "metadata": {},
   "source": [
    "<h2>Show the distribution of Parts</h2>\n",
    "Here I want to display the distibution of usage of the different Parts."
   ]
  },
  {
   "cell_type": "code",
   "execution_count": null,
   "metadata": {},
   "outputs": [
    {
     "name": "stdout",
     "output_type": "stream",
     "text": [
      "just ran step start_pipeline shape=(560, 59) took 0:00:00s\n",
      "just ran step group_by_and_count shape=(37,) took 0:00:00.000398s\n"
     ]
    }
   ],
   "source": [
    "parts_used_grouped_counted = (merged.pipe(php.start_pipeline)\n",
    "    .pipe(php.group_by_and_count, column_name=\"Count\"))\n",
    "parts_used_grouped_counted.name = 'Count distribution'\n",
    "##not necessary anymore due to usage of histogramm"
   ]
  },
  {
   "cell_type": "code",
   "execution_count": 1,
   "metadata": {},
   "outputs": [],
   "source": [
    "import matplotlib.pyplot as plt\n",
    "import pandas as pd\n",
    "\n",
    "merged = pd.read_parquet('../../cache/cable_probes_parts_used_count.parquet')"
   ]
  },
  {
   "cell_type": "code",
   "execution_count": 2,
   "metadata": {},
   "outputs": [
    {
     "data": {
      "text/plain": [
       "Text(0, 0.5, 'Anzahl Bauteile')"
      ]
     },
     "execution_count": 2,
     "metadata": {},
     "output_type": "execute_result"
    },
    {
     "data": {
      "image/png": "[encoded data removed]",
      "text/plain": [
       "<Figure size 640x480 with 1 Axes>"
      ]
     },
     "metadata": {},
     "output_type": "display_data"
    }
   ],
   "source": [
    "fig = plt.figure()\n",
    "ax = fig.add_subplot()\n",
    "ax.hist(merged['Count'], bins=160, log=True)\n",
    "ax.set_xlabel(\"Anzahl Verwendungen\")\n",
    "ax.set_ylabel(\"Anzahl Bauteile\")"
   ]
  },
  {
   "cell_type": "code",
   "execution_count": null,
   "metadata": {},
   "outputs": [],
   "source": [
    "merged.to_csv('../../res/results/cableprobes_counted_parts.csv')"
   ]
  }
 ],
 "metadata": {
  "kernelspec": {
   "display_name": "py_venv",
   "language": "python",
   "name": "python3"
  },
  "language_info": {
   "codemirror_mode": {
    "name": "ipython",
    "version": 3
   },
   "file_extension": ".py",
   "mimetype": "text/x-python",
   "name": "python",
   "nbconvert_exporter": "python",
   "pygments_lexer": "ipython3",
   "version": "3.12.4"
  }
 },
 "nbformat": 4,
 "nbformat_minor": 2
}
